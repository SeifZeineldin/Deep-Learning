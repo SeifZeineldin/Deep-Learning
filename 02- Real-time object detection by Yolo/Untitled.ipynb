{
 "cells": [
  {
   "cell_type": "markdown",
   "id": "acd1aec3",
   "metadata": {},
   "source": [
    "#  import modules"
   ]
  },
  {
   "cell_type": "code",
   "execution_count": 1,
   "id": "c8d70323",
   "metadata": {
    "ExecuteTime": {
     "end_time": "2022-10-12T11:41:01.711337Z",
     "start_time": "2022-10-12T11:40:57.875209Z"
    }
   },
   "outputs": [],
   "source": [
    "import cv2 as cv\n",
    "from numpy import round"
   ]
  },
  {
   "cell_type": "markdown",
   "id": "1aa0bcee",
   "metadata": {},
   "source": [
    "### openCV DNN"
   ]
  },
  {
   "cell_type": "code",
   "execution_count": 2,
   "id": "ea4e6d61",
   "metadata": {
    "ExecuteTime": {
     "end_time": "2022-10-12T11:41:13.599406Z",
     "start_time": "2022-10-12T11:41:02.446640Z"
    }
   },
   "outputs": [],
   "source": [
    "net=cv.dnn.readNet(\"Yolo7/yolov7x.weights\",\"Yolo7/yolo7x.cfg\")\n",
    "model=cv.dnn_DetectionModel(net)\n",
    "model.setInputParams(size=(320,320),scale=1/255)"
   ]
  },
  {
   "cell_type": "markdown",
   "id": "a0a1eae5",
   "metadata": {},
   "source": [
    "### Get Classes Names\n"
   ]
  },
  {
   "cell_type": "code",
   "execution_count": 3,
   "id": "cd0100fd",
   "metadata": {
    "ExecuteTime": {
     "end_time": "2022-10-12T11:41:13.665608Z",
     "start_time": "2022-10-12T11:41:13.609712Z"
    }
   },
   "outputs": [
    {
     "data": {
      "text/plain": [
       "['person',\n",
       " 'bicycle',\n",
       " 'car',\n",
       " 'motorbike',\n",
       " 'aeroplane',\n",
       " 'bus',\n",
       " 'train',\n",
       " 'truck',\n",
       " 'boat',\n",
       " 'traffic light',\n",
       " 'fire hydrant',\n",
       " 'stop sign',\n",
       " 'parking meter',\n",
       " 'bench',\n",
       " 'bird',\n",
       " 'cat',\n",
       " 'dog',\n",
       " 'horse',\n",
       " 'sheep',\n",
       " 'cow',\n",
       " 'elephant',\n",
       " 'bear',\n",
       " 'zebra',\n",
       " 'giraffe',\n",
       " 'backpack',\n",
       " 'umbrella',\n",
       " 'handbag',\n",
       " 'tie',\n",
       " 'suitcase',\n",
       " 'frisbee',\n",
       " 'skis',\n",
       " 'snowboard',\n",
       " 'sports ball',\n",
       " 'kite',\n",
       " 'baseball bat',\n",
       " 'baseball glove',\n",
       " 'skateboard',\n",
       " 'surfboard',\n",
       " 'tennis racket',\n",
       " 'bottle',\n",
       " 'wine glass',\n",
       " 'cup',\n",
       " 'fork',\n",
       " 'knife',\n",
       " 'spoon',\n",
       " 'bowl',\n",
       " 'banana',\n",
       " 'apple',\n",
       " 'sandwich',\n",
       " 'orange',\n",
       " 'broccoli',\n",
       " 'carrot',\n",
       " 'hot dog',\n",
       " 'pizza',\n",
       " 'donut',\n",
       " 'cake',\n",
       " 'chair',\n",
       " 'sofa',\n",
       " 'pottedplant',\n",
       " 'bed',\n",
       " 'diningtable',\n",
       " 'toilet',\n",
       " 'tvmonitor',\n",
       " 'laptop',\n",
       " 'mouse',\n",
       " 'remote',\n",
       " 'keyboard',\n",
       " 'cell phone',\n",
       " 'microwave',\n",
       " 'oven',\n",
       " 'toaster',\n",
       " 'sink',\n",
       " 'refrigerator',\n",
       " 'book',\n",
       " 'clock',\n",
       " 'vase',\n",
       " 'scissors',\n",
       " 'teddy bear',\n",
       " 'hair drier',\n",
       " 'toothbrush']"
      ]
     },
     "execution_count": 3,
     "metadata": {},
     "output_type": "execute_result"
    }
   ],
   "source": [
    "classes = []\n",
    "with open('Yolo7/Classes.txt', 'r') as obj_f:\n",
    "    classes = obj_f.read().splitlines()\n",
    "classes"
   ]
  },
  {
   "cell_type": "markdown",
   "id": "878ea0e5",
   "metadata": {
    "ExecuteTime": {
     "end_time": "2022-10-07T11:47:23.400332Z",
     "start_time": "2022-10-07T11:47:23.108073Z"
    }
   },
   "source": [
    "### Real Time Video Detection Using Webcam"
   ]
  },
  {
   "cell_type": "code",
   "execution_count": 4,
   "id": "72882eea",
   "metadata": {
    "ExecuteTime": {
     "end_time": "2022-10-12T11:43:00.699434Z",
     "start_time": "2022-10-12T11:41:17.305419Z"
    }
   },
   "outputs": [],
   "source": [
    "capture = cv.VideoCapture(0)\n",
    "capture.set(cv.CAP_PROP_FRAME_WIDTH,1280)\n",
    "capture.set(cv.CAP_PROP_FRAME_HEIGHT,720)\n",
    "\n",
    "while True:\n",
    "    isTrue, img = capture.read()\n",
    "    img=cv.flip(img,1)\n",
    "    if isTrue:    \n",
    "        (Class,Score,Boundry_box)=model.detect(img,confThreshold=.65)\n",
    "        for C,S,B in zip(Class,Score,Boundry_box):\n",
    "            x,y,w,h=B\n",
    "            cv.rectangle(img,B,(0,255,0),1)\n",
    "            cv.putText(img,str(classes[int(C)])+\" \"+str(round(S,2))+\"%\",(x,y-10),cv.FONT_HERSHEY_PLAIN,2,(0,255,0),1)\n",
    "        cv.imshow('Video', img)\n",
    "        if cv.waitKey(20) & 0xFF==ord('x'):\n",
    "            break            \n",
    "    else:\n",
    "        break\n",
    "\n",
    "capture.release()\n",
    "cv.destroyAllWindows()"
   ]
  },
  {
   "cell_type": "code",
   "execution_count": null,
   "id": "43436963",
   "metadata": {},
   "outputs": [],
   "source": []
  }
 ],
 "metadata": {
  "kernelspec": {
   "display_name": "Python 3 (ipykernel)",
   "language": "python",
   "name": "python3"
  },
  "language_info": {
   "codemirror_mode": {
    "name": "ipython",
    "version": 3
   },
   "file_extension": ".py",
   "mimetype": "text/x-python",
   "name": "python",
   "nbconvert_exporter": "python",
   "pygments_lexer": "ipython3",
   "version": "3.9.12"
  }
 },
 "nbformat": 4,
 "nbformat_minor": 5
}
