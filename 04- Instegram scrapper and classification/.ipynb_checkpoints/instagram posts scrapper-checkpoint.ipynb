{
 "cells": [
  {
   "cell_type": "markdown",
   "id": "006287be",
   "metadata": {},
   "source": [
    "### modules for scrap"
   ]
  },
  {
   "cell_type": "code",
   "execution_count": 2,
   "id": "72b6c5ed",
   "metadata": {
    "ExecuteTime": {
     "end_time": "2022-10-27T21:57:22.595608Z",
     "start_time": "2022-10-27T21:57:22.581232Z"
    }
   },
   "outputs": [],
   "source": [
    "import requests\n",
    "import urllib.request\n",
    "from selenium import webdriver\n",
    "from selenium.webdriver.support.wait import WebDriverWait\n",
    "from selenium.webdriver.common.keys import Keys\n",
    "import cv2 as cv\n",
    "import time\n",
    "import os\n",
    "\n",
    "\n"
   ]
  },
  {
   "cell_type": "markdown",
   "id": "8dbeed7b",
   "metadata": {},
   "source": [
    "### set user name and password"
   ]
  },
  {
   "cell_type": "code",
   "execution_count": null,
   "id": "8d5dd73a",
   "metadata": {
    "ExecuteTime": {
     "end_time": "2022-10-27T21:21:19.477405Z",
     "start_time": "2022-10-27T21:20:36.610109Z"
    }
   },
   "outputs": [],
   "source": [
    "user_name=input(\"Enter User name : \")\n",
    "password=input(\"Enter the password : \")"
   ]
  },
  {
   "cell_type": "markdown",
   "id": "f759a41d",
   "metadata": {},
   "source": [
    "### login and scrap"
   ]
  },
  {
   "cell_type": "code",
   "execution_count": null,
   "id": "bdd1c06f",
   "metadata": {
    "ExecuteTime": {
     "end_time": "2022-10-27T21:24:14.714215Z",
     "start_time": "2022-10-27T21:23:39.986792Z"
    },
    "scrolled": true
   },
   "outputs": [],
   "source": [
    "# --------------------------------------Login-------------------------------\n",
    "driver= webdriver.Edge(executable_path=r'msedgedriver.exe')\n",
    "driver.get(\"https://www.instagram.com/\")\n",
    "\n",
    "driver.maximize_window()\n",
    "\n",
    "\n",
    "time.sleep(3)\n",
    "driver.find_element_by_css_selector(\"input[name='username']\").send_keys(user_name)\n",
    "WebDriverWait(driver, 10)\n",
    "driver.find_element_by_css_selector(\"input[name='password']\").send_keys(password)\n",
    "\n",
    "time.sleep(2)\n",
    "driver.find_element_by_css_selector(\"button[type='submit']\").click()\n",
    "WebDriverWait(driver, 10)\n",
    "\n",
    "\n",
    "#------------------------------------pages for scrap------------------------------\n",
    "pages=[\"dogs.igpups\",\"airplane_747\",\"fever_trees\",\"excellent_mountains\"]\n",
    "\n",
    "\n",
    "\n",
    "#-------------------------------------Search and dawonload data---------------------------------------\n",
    "\n",
    "\n",
    "        \n",
    "        \n",
    "\n",
    "\n",
    "\n"
   ]
  },
  {
   "cell_type": "code",
   "execution_count": null,
   "id": "72aed915",
   "metadata": {
    "ExecuteTime": {
     "end_time": "2022-10-27T21:18:21.327350Z",
     "start_time": "2022-10-27T21:18:17.112549Z"
    }
   },
   "outputs": [],
   "source": [
    "for I in pages:\n",
    "    os.mkdir(path=f\"data\\{I}\")\n",
    "    no_of_scroll=0\n",
    "    search=driver.find_element_by_css_selector(\"input[placeholder='Search']\")\n",
    "    search.clear()\n",
    "    time.sleep(3)\n",
    "    search.send_keys(I)\n",
    "    time.sleep(3)\n",
    "    search.send_keys(Keys.ENTER)\n",
    "    time.sleep(3)\n",
    "    search.send_keys(Keys.ENTER)\n",
    "    num=0\n",
    "    while no_of_scroll<150:     \n",
    "        if no_of_scroll > 20:\n",
    "            div=10\n",
    "        elif no_of_scroll > 100:\n",
    "            div=12\n",
    "\n",
    "        else:\n",
    "            div=5\n",
    "            \n",
    "            \n",
    "        driver.execute_script(\"window.scrollTo(0, document.body.scrollHeight);\")\n",
    "        time.sleep(3)\n",
    "\n",
    "        no_of_scroll+=1\n",
    "        \n",
    "        if(no_of_scroll%div==0):\n",
    "            img = driver.find_elements_by_tag_name('img')\n",
    "            img=img[5:]\n",
    "            for c in img:\n",
    "                num+=1\n",
    "                try:\n",
    "                    urllib.request.urlretrieve(c.get_attribute('src'),f\"data\\\\{I}\\\\\"+str(num)+\".png\")\n",
    "                except:\n",
    "                    print(\"one download failed\")"
   ]
  },
  {
   "cell_type": "markdown",
   "id": "2676377f",
   "metadata": {},
   "source": [
    "###  resize images in other folders"
   ]
  },
  {
   "cell_type": "code",
   "execution_count": 12,
   "id": "3b20e005",
   "metadata": {
    "ExecuteTime": {
     "end_time": "2022-10-27T22:08:21.290483Z",
     "start_time": "2022-10-27T22:06:35.292106Z"
    }
   },
   "outputs": [],
   "source": [
    "folder=os.listdir(f\"data/\")\n",
    "os.mkdir(path=\"data_after_resize\")\n",
    "for i in folder:\n",
    "    os.mkdir(f\"data_after_resize/{i}\")\n",
    "    images=os.listdir(f\"data/{i}\")\n",
    "    for j in images:\n",
    "        im=cv.imread(f\"data/{i}/{j}\")\n",
    "        im=cv.resize(im,(128,128),interpolation=cv.INTER_AREA)\n",
    "        cv.imwrite(f\"data_after_resize/{i}/re_{j}.jpg\", im)\n",
    "        os.remove(f\"data/{i}/{j}\")\n",
    "     \n",
    "   "
   ]
  },
  {
   "cell_type": "code",
   "execution_count": null,
   "id": "7ca09c47",
   "metadata": {},
   "outputs": [],
   "source": []
  }
 ],
 "metadata": {
  "kernelspec": {
   "display_name": "Python 3 (ipykernel)",
   "language": "python",
   "name": "python3"
  },
  "language_info": {
   "codemirror_mode": {
    "name": "ipython",
    "version": 3
   },
   "file_extension": ".py",
   "mimetype": "text/x-python",
   "name": "python",
   "nbconvert_exporter": "python",
   "pygments_lexer": "ipython3",
   "version": "3.9.12"
  }
 },
 "nbformat": 4,
 "nbformat_minor": 5
}
