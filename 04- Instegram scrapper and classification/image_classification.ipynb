{
  "nbformat": 4,
  "nbformat_minor": 0,
  "metadata": {
    "colab": {
      "provenance": [],
      "collapsed_sections": []
    },
    "kernelspec": {
      "name": "python3",
      "display_name": "Python 3"
    },
    "language_info": {
      "name": "python"
    },
    "accelerator": "GPU",
    "gpuClass": "standard"
  },
  "cells": [
    {
      "cell_type": "code",
      "execution_count": 1,
      "metadata": {
        "colab": {
          "base_uri": "https://localhost:8080/"
        },
        "id": "pihG6Sqm_VGq",
        "outputId": "b5f679fa-fee1-4017-bba0-7a377ccd3492"
      },
      "outputs": [
        {
          "output_type": "stream",
          "name": "stdout",
          "text": [
            "Mounted at /content/drive\n"
          ]
        }
      ],
      "source": [
        "from google.colab import drive\n",
        "drive.mount('/content/drive')\n"
      ]
    },
    {
      "cell_type": "code",
      "source": [
        "import pandas as pd\n",
        "import numpy as np\n",
        "import matplotlib.pyplot as plt\n",
        "\n",
        "import cv2 as cv\n",
        "import tensorflow as tf\n",
        "from tensorflow.keras.preprocessing import image\n",
        "from tensorflow.keras.models import Sequential \n",
        "from tensorflow.keras.layers import Conv2D, MaxPool2D, Flatten,Dense,Dropout,BatchNormalization\n",
        "from tensorflow.keras.preprocessing.image import ImageDataGenerator\n",
        "\n",
        "\n",
        "\n",
        "import os\n",
        "import warnings\n",
        "warnings.filterwarnings('ignore')"
      ],
      "metadata": {
        "id": "Wl2PdeuMGfJL"
      },
      "execution_count": 2,
      "outputs": []
    },
    {
      "cell_type": "code",
      "source": [
        "Class_name=os.listdir(\"drive/MyDrive/data_after_resize/train\")\n",
        "Class_name"
      ],
      "metadata": {
        "colab": {
          "base_uri": "https://localhost:8080/"
        },
        "id": "TwZ2To0qH7df",
        "outputId": "8a396ae3-e0c0-4545-8fd3-2b7e602aaf69"
      },
      "execution_count": 3,
      "outputs": [
        {
          "output_type": "execute_result",
          "data": {
            "text/plain": [
              "['trees', 'mountains', 'golden dogs', 'airplane']"
            ]
          },
          "metadata": {},
          "execution_count": 3
        }
      ]
    },
    {
      "cell_type": "code",
      "source": [
        "train_datagen = ImageDataGenerator(\n",
        "                                         width_shift_range = 0.1,\n",
        "                                         height_shift_range = 0.1,\n",
        "                                         horizontal_flip = True,\n",
        "                                         rescale = 1./255,\n",
        "                                         zoom_range = 0.2,\n",
        "                                         validation_split = 0.2\n",
        "                                        \n",
        "                                        )\n",
        "test_datagen = ImageDataGenerator(rescale = 1./255,\n",
        "                                        )\n",
        "train_generator = train_datagen.flow_from_directory(directory = \"drive/MyDrive/data_after_resize/train\",\n",
        "                                                    target_size = (128,128),\n",
        "                                                    batch_size = 1,\n",
        "                                                    color_mode = \"rgb\",\n",
        "                                                    class_mode = \"categorical\"\n",
        "                                                   )\n",
        "test_generator = test_datagen.flow_from_directory( directory = \"drive/MyDrive/data_after_resize/test\",\n",
        "                                                              target_size = (128,128),\n",
        "                                                              batch_size = 32,\n",
        "                                                              color_mode = \"rgb\",\n",
        "                                                              class_mode = \"categorical\",\n",
        "                                                             )"
      ],
      "metadata": {
        "colab": {
          "base_uri": "https://localhost:8080/"
        },
        "id": "00MHVnarIJus",
        "outputId": "27a33f90-9d32-4553-9944-23b5cd9141d4"
      },
      "execution_count": 8,
      "outputs": [
        {
          "output_type": "stream",
          "name": "stdout",
          "text": [
            "Found 1550 images belonging to 4 classes.\n",
            "Found 210 images belonging to 4 classes.\n"
          ]
        }
      ]
    },
    {
      "cell_type": "code",
      "source": [
        "pretrainedModel = tf.keras.applications.MobileNetV2(\n",
        "    input_shape=(128, 128, 3),\n",
        "     include_top=False,\n",
        "     weights='imagenet',\n",
        "     pooling='avg'\n",
        ")\n",
        "pretrainedModel.trainable = False\n",
        "\n",
        "inputs = pretrainedModel.input\n",
        "\n",
        "x = tf.keras.layers.Dense(128, activation='relu')(pretrainedModel.output)\n",
        "x = tf.keras.layers.Dense(128, activation='relu')(x)\n",
        "\n",
        "outputs = tf.keras.layers.Dense(29, activation='softmax')(x)\n",
        "\n",
        "model = tf.keras.Model(inputs=inputs, outputs=outputs)"
      ],
      "metadata": {
        "id": "WRaUkmLzq0kW"
      },
      "execution_count": null,
      "outputs": []
    },
    {
      "cell_type": "code",
      "source": [
        "model.compile(\n",
        "    optimizer = tf.keras.optimizers.Adam(lr=0.0005), \n",
        "    loss='categorical_crossentropy', \n",
        "    metrics=['accuracy']\n",
        "  )"
      ],
      "metadata": {
        "id": "H5yp3JhbnYXb"
      },
      "execution_count": 16,
      "outputs": []
    },
    {
      "cell_type": "code",
      "source": [
        "history = model.fit(\n",
        "    train_generator ,\n",
        "    epochs=3,\n",
        "    batch_size=64)"
      ],
      "metadata": {
        "colab": {
          "base_uri": "https://localhost:8080/"
        },
        "id": "qCaNIjc0nvFd",
        "outputId": "a466dfcc-e133-4854-d311-d6de2554a518"
      },
      "execution_count": 17,
      "outputs": [
        {
          "output_type": "stream",
          "name": "stdout",
          "text": [
            "Epoch 1/3\n",
            "1550/1550 [==============================] - 22s 12ms/step - loss: 0.2652 - accuracy: 0.9161\n",
            "Epoch 2/3\n",
            "1550/1550 [==============================] - 19s 12ms/step - loss: 0.1206 - accuracy: 0.9581\n",
            "Epoch 3/3\n",
            "1550/1550 [==============================] - 19s 12ms/step - loss: 0.1212 - accuracy: 0.9594\n"
          ]
        }
      ]
    },
    {
      "cell_type": "code",
      "source": [
        " model.evaluate(test_generator)"
      ],
      "metadata": {
        "colab": {
          "base_uri": "https://localhost:8080/"
        },
        "id": "HomBl_pln1yU",
        "outputId": "4105348e-f7b5-4f98-9877-6f276908ceb9"
      },
      "execution_count": 18,
      "outputs": [
        {
          "output_type": "stream",
          "name": "stdout",
          "text": [
            "7/7 [==============================] - 1s 70ms/step - loss: 0.1910 - accuracy: 0.9429\n"
          ]
        },
        {
          "output_type": "execute_result",
          "data": {
            "text/plain": [
              "[0.19098737835884094, 0.9428571462631226]"
            ]
          },
          "metadata": {},
          "execution_count": 18
        }
      ]
    },
    {
      "cell_type": "code",
      "source": [],
      "metadata": {
        "id": "lQfnh5ISplSm"
      },
      "execution_count": null,
      "outputs": []
    }
  ]
}