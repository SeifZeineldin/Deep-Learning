{
 "cells": [
  {
   "cell_type": "code",
   "execution_count": 6,
   "id": "ce0b28ea",
   "metadata": {
    "ExecuteTime": {
     "end_time": "2022-12-04T13:49:57.548496Z",
     "start_time": "2022-12-04T13:49:38.368506Z"
    }
   },
   "outputs": [
    {
     "name": "stdout",
     "output_type": "stream",
     "text": [
      "%pylab is deprecated, use %matplotlib inline and import the required libraries.\n",
      "Populating the interactive namespace from numpy and matplotlib\n"
     ]
    }
   ],
   "source": [
    "import pandas_datareader as pdr\n",
    "import matplotlib.pyplot as plt\n",
    "import pandas as pd\n",
    "import datetime \n",
    "\n",
    "#from tqdm import tqdm_notebook as tqdm\n",
    "from tqdm import tqdm\n",
    "# This line is necessary for the plot to appear in a Jupyter notebook\n",
    "%matplotlib inline\n",
    "# Control the default size of figures in this Jupyter notebook\n",
    "%pylab inline\n",
    "pylab.rcParams['figure.figsize'] = (14, 9)   # Change the size of plots"
   ]
  },
  {
   "cell_type": "code",
   "execution_count": 39,
   "id": "dacfe6aa",
   "metadata": {
    "ExecuteTime": {
     "end_time": "2022-12-04T16:43:01.233720Z",
     "start_time": "2022-12-04T16:42:54.361564Z"
    }
   },
   "outputs": [],
   "source": [
    "start_date = datetime.datetime(2010, 1, 1)\n",
    "end_date = datetime.datetime(2022, 8, 3)\n",
    "aapl = pdr.get_data_yahoo('AAPL', start=start_date, end=end_date)\n"
   ]
  },
  {
   "cell_type": "code",
   "execution_count": 8,
   "id": "9220da2d",
   "metadata": {
    "ExecuteTime": {
     "end_time": "2022-12-04T13:54:35.918667Z",
     "start_time": "2022-12-04T13:54:35.791821Z"
    }
   },
   "outputs": [
    {
     "data": {
      "text/html": [
       "<div>\n",
       "<style scoped>\n",
       "    .dataframe tbody tr th:only-of-type {\n",
       "        vertical-align: middle;\n",
       "    }\n",
       "\n",
       "    .dataframe tbody tr th {\n",
       "        vertical-align: top;\n",
       "    }\n",
       "\n",
       "    .dataframe thead th {\n",
       "        text-align: right;\n",
       "    }\n",
       "</style>\n",
       "<table border=\"1\" class=\"dataframe\">\n",
       "  <thead>\n",
       "    <tr style=\"text-align: right;\">\n",
       "      <th></th>\n",
       "      <th>High</th>\n",
       "      <th>Low</th>\n",
       "      <th>Open</th>\n",
       "      <th>Close</th>\n",
       "      <th>Volume</th>\n",
       "      <th>Adj Close</th>\n",
       "    </tr>\n",
       "    <tr>\n",
       "      <th>Date</th>\n",
       "      <th></th>\n",
       "      <th></th>\n",
       "      <th></th>\n",
       "      <th></th>\n",
       "      <th></th>\n",
       "      <th></th>\n",
       "    </tr>\n",
       "  </thead>\n",
       "  <tbody>\n",
       "    <tr>\n",
       "      <th>2022-07-28</th>\n",
       "      <td>157.639999</td>\n",
       "      <td>154.410004</td>\n",
       "      <td>156.979996</td>\n",
       "      <td>157.350006</td>\n",
       "      <td>81378700.0</td>\n",
       "      <td>156.871521</td>\n",
       "    </tr>\n",
       "    <tr>\n",
       "      <th>2022-07-29</th>\n",
       "      <td>163.630005</td>\n",
       "      <td>159.500000</td>\n",
       "      <td>161.240005</td>\n",
       "      <td>162.509995</td>\n",
       "      <td>101786900.0</td>\n",
       "      <td>162.015808</td>\n",
       "    </tr>\n",
       "    <tr>\n",
       "      <th>2022-08-01</th>\n",
       "      <td>163.589996</td>\n",
       "      <td>160.889999</td>\n",
       "      <td>161.009995</td>\n",
       "      <td>161.509995</td>\n",
       "      <td>67829400.0</td>\n",
       "      <td>161.018860</td>\n",
       "    </tr>\n",
       "    <tr>\n",
       "      <th>2022-08-02</th>\n",
       "      <td>162.410004</td>\n",
       "      <td>159.630005</td>\n",
       "      <td>160.100006</td>\n",
       "      <td>160.009995</td>\n",
       "      <td>59907000.0</td>\n",
       "      <td>159.523407</td>\n",
       "    </tr>\n",
       "    <tr>\n",
       "      <th>2022-08-03</th>\n",
       "      <td>166.589996</td>\n",
       "      <td>160.750000</td>\n",
       "      <td>160.839996</td>\n",
       "      <td>166.130005</td>\n",
       "      <td>82507500.0</td>\n",
       "      <td>165.624817</td>\n",
       "    </tr>\n",
       "  </tbody>\n",
       "</table>\n",
       "</div>"
      ],
      "text/plain": [
       "                  High         Low        Open       Close       Volume  \\\n",
       "Date                                                                      \n",
       "2022-07-28  157.639999  154.410004  156.979996  157.350006   81378700.0   \n",
       "2022-07-29  163.630005  159.500000  161.240005  162.509995  101786900.0   \n",
       "2022-08-01  163.589996  160.889999  161.009995  161.509995   67829400.0   \n",
       "2022-08-02  162.410004  159.630005  160.100006  160.009995   59907000.0   \n",
       "2022-08-03  166.589996  160.750000  160.839996  166.130005   82507500.0   \n",
       "\n",
       "             Adj Close  \n",
       "Date                    \n",
       "2022-07-28  156.871521  \n",
       "2022-07-29  162.015808  \n",
       "2022-08-01  161.018860  \n",
       "2022-08-02  159.523407  \n",
       "2022-08-03  165.624817  "
      ]
     },
     "execution_count": 8,
     "metadata": {},
     "output_type": "execute_result"
    }
   ],
   "source": [
    "aapl.tail(5)"
   ]
  },
  {
   "cell_type": "code",
   "execution_count": 40,
   "id": "d21bf1de",
   "metadata": {
    "ExecuteTime": {
     "end_time": "2022-12-04T16:43:04.961233Z",
     "start_time": "2022-12-04T16:43:04.626787Z"
    }
   },
   "outputs": [
    {
     "data": {
      "text/plain": [
       "<AxesSubplot:xlabel='Date'>"
      ]
     },
     "execution_count": 40,
     "metadata": {},
     "output_type": "execute_result"
    },
    {
     "data": {
      "image/png": "[encoded data removed]",
      "text/plain": [
       "<Figure size 1080x576 with 1 Axes>"
      ]
     },
     "metadata": {
      "needs_background": "light"
     },
     "output_type": "display_data"
    }
   ],
   "source": [
    "f, ax = plt.subplots(figsize=(15,8))\n",
    "\n",
    "aapl['Adj Close'].plot(grid = True)"
   ]
  },
  {
   "cell_type": "code",
   "execution_count": 41,
   "id": "df7d73a6",
   "metadata": {
    "ExecuteTime": {
     "end_time": "2022-12-04T16:43:20.183940Z",
     "start_time": "2022-12-04T16:43:20.169563Z"
    }
   },
   "outputs": [],
   "source": [
    "# Fast moving window rolling mean\n",
    "aapl['fast'] = aapl['Adj Close'].rolling(window=2).mean()\n",
    "# Short moving window rolling mean \n",
    "aapl['slow'] = aapl['Adj Close'].rolling(window=5).mean()"
   ]
  },
  {
   "cell_type": "code",
   "execution_count": 42,
   "id": "0fc6ac58",
   "metadata": {
    "ExecuteTime": {
     "end_time": "2022-12-04T16:43:22.300333Z",
     "start_time": "2022-12-04T16:43:22.268710Z"
    }
   },
   "outputs": [
    {
     "data": {
      "text/html": [
       "<div>\n",
       "<style scoped>\n",
       "    .dataframe tbody tr th:only-of-type {\n",
       "        vertical-align: middle;\n",
       "    }\n",
       "\n",
       "    .dataframe tbody tr th {\n",
       "        vertical-align: top;\n",
       "    }\n",
       "\n",
       "    .dataframe thead th {\n",
       "        text-align: right;\n",
       "    }\n",
       "</style>\n",
       "<table border=\"1\" class=\"dataframe\">\n",
       "  <thead>\n",
       "    <tr style=\"text-align: right;\">\n",
       "      <th></th>\n",
       "      <th>High</th>\n",
       "      <th>Low</th>\n",
       "      <th>Open</th>\n",
       "      <th>Close</th>\n",
       "      <th>Volume</th>\n",
       "      <th>Adj Close</th>\n",
       "      <th>fast</th>\n",
       "      <th>slow</th>\n",
       "    </tr>\n",
       "    <tr>\n",
       "      <th>Date</th>\n",
       "      <th></th>\n",
       "      <th></th>\n",
       "      <th></th>\n",
       "      <th></th>\n",
       "      <th></th>\n",
       "      <th></th>\n",
       "      <th></th>\n",
       "      <th></th>\n",
       "    </tr>\n",
       "  </thead>\n",
       "  <tbody>\n",
       "    <tr>\n",
       "      <th>2010-01-04</th>\n",
       "      <td>7.660714</td>\n",
       "      <td>7.585000</td>\n",
       "      <td>7.622500</td>\n",
       "      <td>7.643214</td>\n",
       "      <td>4.937296e+08</td>\n",
       "      <td>6.515212</td>\n",
       "      <td>NaN</td>\n",
       "      <td>NaN</td>\n",
       "    </tr>\n",
       "    <tr>\n",
       "      <th>2010-01-05</th>\n",
       "      <td>7.699643</td>\n",
       "      <td>7.616071</td>\n",
       "      <td>7.664286</td>\n",
       "      <td>7.656429</td>\n",
       "      <td>6.019048e+08</td>\n",
       "      <td>6.526477</td>\n",
       "      <td>6.520844</td>\n",
       "      <td>NaN</td>\n",
       "    </tr>\n",
       "    <tr>\n",
       "      <th>2010-01-06</th>\n",
       "      <td>7.686786</td>\n",
       "      <td>7.526786</td>\n",
       "      <td>7.656429</td>\n",
       "      <td>7.534643</td>\n",
       "      <td>5.521600e+08</td>\n",
       "      <td>6.422664</td>\n",
       "      <td>6.474571</td>\n",
       "      <td>NaN</td>\n",
       "    </tr>\n",
       "    <tr>\n",
       "      <th>2010-01-07</th>\n",
       "      <td>7.571429</td>\n",
       "      <td>7.466071</td>\n",
       "      <td>7.562500</td>\n",
       "      <td>7.520714</td>\n",
       "      <td>4.771312e+08</td>\n",
       "      <td>6.410791</td>\n",
       "      <td>6.416728</td>\n",
       "      <td>NaN</td>\n",
       "    </tr>\n",
       "    <tr>\n",
       "      <th>2010-01-08</th>\n",
       "      <td>7.571429</td>\n",
       "      <td>7.466429</td>\n",
       "      <td>7.510714</td>\n",
       "      <td>7.570714</td>\n",
       "      <td>4.476108e+08</td>\n",
       "      <td>6.453412</td>\n",
       "      <td>6.432101</td>\n",
       "      <td>6.465711</td>\n",
       "    </tr>\n",
       "    <tr>\n",
       "      <th>2010-01-11</th>\n",
       "      <td>7.607143</td>\n",
       "      <td>7.444643</td>\n",
       "      <td>7.600000</td>\n",
       "      <td>7.503929</td>\n",
       "      <td>4.622296e+08</td>\n",
       "      <td>6.396484</td>\n",
       "      <td>6.424948</td>\n",
       "      <td>6.441966</td>\n",
       "    </tr>\n",
       "    <tr>\n",
       "      <th>2010-01-12</th>\n",
       "      <td>7.491786</td>\n",
       "      <td>7.372143</td>\n",
       "      <td>7.471071</td>\n",
       "      <td>7.418571</td>\n",
       "      <td>5.944596e+08</td>\n",
       "      <td>6.323723</td>\n",
       "      <td>6.360104</td>\n",
       "      <td>6.401415</td>\n",
       "    </tr>\n",
       "    <tr>\n",
       "      <th>2010-01-13</th>\n",
       "      <td>7.533214</td>\n",
       "      <td>7.289286</td>\n",
       "      <td>7.423929</td>\n",
       "      <td>7.523214</td>\n",
       "      <td>6.058920e+08</td>\n",
       "      <td>6.412922</td>\n",
       "      <td>6.368323</td>\n",
       "      <td>6.399466</td>\n",
       "    </tr>\n",
       "    <tr>\n",
       "      <th>2010-01-14</th>\n",
       "      <td>7.516429</td>\n",
       "      <td>7.465000</td>\n",
       "      <td>7.503929</td>\n",
       "      <td>7.479643</td>\n",
       "      <td>4.328940e+08</td>\n",
       "      <td>6.375782</td>\n",
       "      <td>6.394352</td>\n",
       "      <td>6.392465</td>\n",
       "    </tr>\n",
       "    <tr>\n",
       "      <th>2010-01-15</th>\n",
       "      <td>7.557143</td>\n",
       "      <td>7.352500</td>\n",
       "      <td>7.533214</td>\n",
       "      <td>7.354643</td>\n",
       "      <td>5.940676e+08</td>\n",
       "      <td>6.269230</td>\n",
       "      <td>6.322506</td>\n",
       "      <td>6.355628</td>\n",
       "    </tr>\n",
       "    <tr>\n",
       "      <th>2010-01-19</th>\n",
       "      <td>7.685357</td>\n",
       "      <td>7.401429</td>\n",
       "      <td>7.440357</td>\n",
       "      <td>7.680000</td>\n",
       "      <td>7.300076e+08</td>\n",
       "      <td>6.546569</td>\n",
       "      <td>6.407899</td>\n",
       "      <td>6.385645</td>\n",
       "    </tr>\n",
       "    <tr>\n",
       "      <th>2010-01-20</th>\n",
       "      <td>7.698214</td>\n",
       "      <td>7.482143</td>\n",
       "      <td>7.675357</td>\n",
       "      <td>7.561786</td>\n",
       "      <td>6.121528e+08</td>\n",
       "      <td>6.445802</td>\n",
       "      <td>6.496186</td>\n",
       "      <td>6.410061</td>\n",
       "    </tr>\n",
       "    <tr>\n",
       "      <th>2010-01-21</th>\n",
       "      <td>7.618214</td>\n",
       "      <td>7.400357</td>\n",
       "      <td>7.574286</td>\n",
       "      <td>7.431071</td>\n",
       "      <td>6.081544e+08</td>\n",
       "      <td>6.334377</td>\n",
       "      <td>6.390090</td>\n",
       "      <td>6.394352</td>\n",
       "    </tr>\n",
       "    <tr>\n",
       "      <th>2010-01-22</th>\n",
       "      <td>7.410714</td>\n",
       "      <td>7.041429</td>\n",
       "      <td>7.385000</td>\n",
       "      <td>7.062500</td>\n",
       "      <td>8.817676e+08</td>\n",
       "      <td>6.020202</td>\n",
       "      <td>6.177289</td>\n",
       "      <td>6.323236</td>\n",
       "    </tr>\n",
       "    <tr>\n",
       "      <th>2010-01-25</th>\n",
       "      <td>7.310714</td>\n",
       "      <td>7.149643</td>\n",
       "      <td>7.232500</td>\n",
       "      <td>7.252500</td>\n",
       "      <td>1.065700e+09</td>\n",
       "      <td>6.182161</td>\n",
       "      <td>6.101182</td>\n",
       "      <td>6.305822</td>\n",
       "    </tr>\n",
       "  </tbody>\n",
       "</table>\n",
       "</div>"
      ],
      "text/plain": [
       "                High       Low      Open     Close        Volume  Adj Close  \\\n",
       "Date                                                                          \n",
       "2010-01-04  7.660714  7.585000  7.622500  7.643214  4.937296e+08   6.515212   \n",
       "2010-01-05  7.699643  7.616071  7.664286  7.656429  6.019048e+08   6.526477   \n",
       "2010-01-06  7.686786  7.526786  7.656429  7.534643  5.521600e+08   6.422664   \n",
       "2010-01-07  7.571429  7.466071  7.562500  7.520714  4.771312e+08   6.410791   \n",
       "2010-01-08  7.571429  7.466429  7.510714  7.570714  4.476108e+08   6.453412   \n",
       "2010-01-11  7.607143  7.444643  7.600000  7.503929  4.622296e+08   6.396484   \n",
       "2010-01-12  7.491786  7.372143  7.471071  7.418571  5.944596e+08   6.323723   \n",
       "2010-01-13  7.533214  7.289286  7.423929  7.523214  6.058920e+08   6.412922   \n",
       "2010-01-14  7.516429  7.465000  7.503929  7.479643  4.328940e+08   6.375782   \n",
       "2010-01-15  7.557143  7.352500  7.533214  7.354643  5.940676e+08   6.269230   \n",
       "2010-01-19  7.685357  7.401429  7.440357  7.680000  7.300076e+08   6.546569   \n",
       "2010-01-20  7.698214  7.482143  7.675357  7.561786  6.121528e+08   6.445802   \n",
       "2010-01-21  7.618214  7.400357  7.574286  7.431071  6.081544e+08   6.334377   \n",
       "2010-01-22  7.410714  7.041429  7.385000  7.062500  8.817676e+08   6.020202   \n",
       "2010-01-25  7.310714  7.149643  7.232500  7.252500  1.065700e+09   6.182161   \n",
       "\n",
       "                fast      slow  \n",
       "Date                            \n",
       "2010-01-04       NaN       NaN  \n",
       "2010-01-05  6.520844       NaN  \n",
       "2010-01-06  6.474571       NaN  \n",
       "2010-01-07  6.416728       NaN  \n",
       "2010-01-08  6.432101  6.465711  \n",
       "2010-01-11  6.424948  6.441966  \n",
       "2010-01-12  6.360104  6.401415  \n",
       "2010-01-13  6.368323  6.399466  \n",
       "2010-01-14  6.394352  6.392465  \n",
       "2010-01-15  6.322506  6.355628  \n",
       "2010-01-19  6.407899  6.385645  \n",
       "2010-01-20  6.496186  6.410061  \n",
       "2010-01-21  6.390090  6.394352  \n",
       "2010-01-22  6.177289  6.323236  \n",
       "2010-01-25  6.101182  6.305822  "
      ]
     },
     "execution_count": 42,
     "metadata": {},
     "output_type": "execute_result"
    }
   ],
   "source": [
    "aapl.head(15)"
   ]
  },
  {
   "cell_type": "code",
   "execution_count": 43,
   "id": "8d265d13",
   "metadata": {
    "ExecuteTime": {
     "end_time": "2022-12-04T16:43:32.725645Z",
     "start_time": "2022-12-04T16:43:32.711345Z"
    }
   },
   "outputs": [],
   "source": [
    "def get_up_cross(df):\n",
    "    crit1 = df.fast.shift(1) < df.slow.shift(1)\n",
    "    crit2 = df.fast > df.slow\n",
    "    return df.fast[(crit1) & (crit2)]\n",
    "\n",
    "def get_down_cross(df):\n",
    "    crit1 = df.fast.shift(1) > df.slow.shift(1)\n",
    "    crit2 = df.fast < df.slow\n",
    "    return df.fast[(crit1) & (crit2)]"
   ]
  },
  {
   "cell_type": "code",
   "execution_count": 45,
   "id": "c6210dd6",
   "metadata": {
    "ExecuteTime": {
     "end_time": "2022-12-04T16:43:50.030190Z",
     "start_time": "2022-12-04T16:43:49.671264Z"
    }
   },
   "outputs": [
    {
     "data": {
      "text/plain": [
       "<matplotlib.legend.Legend at 0x2476b13e850>"
      ]
     },
     "execution_count": 45,
     "metadata": {},
     "output_type": "execute_result"
    },
    {
     "data": {
      "image/png": "[encoded data removed]",
      "text/plain": [
       "<Figure size 1080x576 with 1 Axes>"
      ]
     },
     "metadata": {
      "needs_background": "light"
     },
     "output_type": "display_data"
    }
   ],
   "source": [
    "up = get_up_cross(aapl)\n",
    "down = get_down_cross(aapl)\n",
    "\n",
    "f, ax = plt.subplots(figsize=(15,8))\n",
    "\n",
    "# Plot the adjusted closing price, the short and long windows of rolling means\n",
    "aapl[['Adj Close', 'fast', 'slow']].plot(ax=ax, grid=True)\n",
    "\n",
    "up.plot(ax=ax,ls='',marker='^', markersize=7,\n",
    "                     alpha=0.75, label='upcross', color='g')\n",
    "down.plot(ax=ax,ls='',marker='v', markersize=7, \n",
    "                       alpha=0.75, label='downcross', color='r')\n",
    "\n",
    "ax.legend()"
   ]
  },
  {
   "cell_type": "code",
   "execution_count": 46,
   "id": "528afa8b",
   "metadata": {
    "ExecuteTime": {
     "end_time": "2022-12-04T16:44:02.502617Z",
     "start_time": "2022-12-04T16:44:02.370014Z"
    }
   },
   "outputs": [
    {
     "data": {
      "text/plain": [
       "Date\n",
       "2010-01-14    1\n",
       "2010-01-15   -1\n",
       "2010-01-19    1\n",
       "2010-01-21   -1\n",
       "2010-01-27    1\n",
       "dtype: int64"
      ]
     },
     "metadata": {},
     "output_type": "display_data"
    },
    {
     "data": {
      "text/plain": [
       "(673,)"
      ]
     },
     "metadata": {},
     "output_type": "display_data"
    }
   ],
   "source": [
    "side_up = pd.Series(1, index=up.index).dropna()\n",
    "side_down = pd.Series(-1, index=down.index).dropna()\n",
    "side = pd.concat([side_up,side_down]).sort_index()\n",
    "display(side[:5], side.shape)\n"
   ]
  },
  {
   "cell_type": "code",
   "execution_count": 47,
   "id": "bd177587",
   "metadata": {
    "ExecuteTime": {
     "end_time": "2022-12-04T16:44:05.519954Z",
     "start_time": "2022-12-04T16:44:05.476913Z"
    }
   },
   "outputs": [
    {
     "data": {
      "text/plain": [
       "array(['2010-01-14T00:00:00.000000000', '2010-01-15T00:00:00.000000000',\n",
       "       '2010-01-19T00:00:00.000000000', '2010-01-21T00:00:00.000000000',\n",
       "       '2010-01-27T00:00:00.000000000', '2010-01-29T00:00:00.000000000',\n",
       "       '2010-02-03T00:00:00.000000000', '2010-02-05T00:00:00.000000000',\n",
       "       '2010-02-10T00:00:00.000000000', '2010-02-22T00:00:00.000000000',\n",
       "       '2010-02-25T00:00:00.000000000', '2010-03-16T00:00:00.000000000',\n",
       "       '2010-03-23T00:00:00.000000000', '2010-04-20T00:00:00.000000000',\n",
       "       '2010-04-21T00:00:00.000000000', '2010-04-28T00:00:00.000000000',\n",
       "       '2010-04-30T00:00:00.000000000', '2010-05-03T00:00:00.000000000',\n",
       "       '2010-05-11T00:00:00.000000000', '2010-05-14T00:00:00.000000000',\n",
       "       '2010-05-25T00:00:00.000000000', '2010-06-04T00:00:00.000000000',\n",
       "       '2010-06-11T00:00:00.000000000', '2010-06-24T00:00:00.000000000',\n",
       "       '2010-07-07T00:00:00.000000000', '2010-07-13T00:00:00.000000000',\n",
       "       '2010-07-21T00:00:00.000000000', '2010-07-29T00:00:00.000000000',\n",
       "       '2010-08-03T00:00:00.000000000', '2010-08-06T00:00:00.000000000',\n",
       "       '2010-08-18T00:00:00.000000000', '2010-08-20T00:00:00.000000000',\n",
       "       '2010-08-30T00:00:00.000000000', '2010-09-28T00:00:00.000000000',\n",
       "       '2010-10-06T00:00:00.000000000', '2010-10-20T00:00:00.000000000',\n",
       "       '2010-11-02T00:00:00.000000000', '2010-11-10T00:00:00.000000000',\n",
       "       '2010-11-11T00:00:00.000000000', '2010-11-12T00:00:00.000000000',\n",
       "       '2010-11-19T00:00:00.000000000', '2010-12-01T00:00:00.000000000',\n",
       "       '2010-12-02T00:00:00.000000000', '2010-12-15T00:00:00.000000000',\n",
       "       '2010-12-17T00:00:00.000000000', '2010-12-30T00:00:00.000000000',\n",
       "       '2011-01-03T00:00:00.000000000', '2011-01-19T00:00:00.000000000',\n",
       "       '2011-01-25T00:00:00.000000000', '2011-01-28T00:00:00.000000000',\n",
       "       '2011-02-01T00:00:00.000000000', '2011-02-18T00:00:00.000000000',\n",
       "       '2011-02-25T00:00:00.000000000', '2011-03-08T00:00:00.000000000',\n",
       "       '2011-03-14T00:00:00.000000000', '2011-03-15T00:00:00.000000000',\n",
       "       '2011-03-22T00:00:00.000000000', '2011-03-31T00:00:00.000000000',\n",
       "       '2011-04-14T00:00:00.000000000', '2011-04-15T00:00:00.000000000',\n",
       "       '2011-04-19T00:00:00.000000000', '2011-04-28T00:00:00.000000000',\n",
       "       '2011-05-04T00:00:00.000000000', '2011-05-05T00:00:00.000000000',\n",
       "       '2011-05-10T00:00:00.000000000', '2011-05-12T00:00:00.000000000',\n",
       "       '2011-05-19T00:00:00.000000000', '2011-05-23T00:00:00.000000000',\n",
       "       '2011-05-26T00:00:00.000000000', '2011-06-06T00:00:00.000000000',\n",
       "       '2011-06-15T00:00:00.000000000', '2011-06-16T00:00:00.000000000',\n",
       "       '2011-06-22T00:00:00.000000000', '2011-07-12T00:00:00.000000000',\n",
       "       '2011-07-14T00:00:00.000000000', '2011-07-28T00:00:00.000000000',\n",
       "       '2011-08-02T00:00:00.000000000', '2011-08-03T00:00:00.000000000',\n",
       "       '2011-08-10T00:00:00.000000000', '2011-08-18T00:00:00.000000000',\n",
       "       '2011-08-24T00:00:00.000000000', '2011-09-01T00:00:00.000000000',\n",
       "       '2011-09-07T00:00:00.000000000', '2011-09-12T00:00:00.000000000',\n",
       "       '2011-09-13T00:00:00.000000000', '2011-09-22T00:00:00.000000000',\n",
       "       '2011-10-06T00:00:00.000000000', '2011-10-07T00:00:00.000000000',\n",
       "       '2011-10-10T00:00:00.000000000', '2011-10-19T00:00:00.000000000',\n",
       "       '2011-10-25T00:00:00.000000000', '2011-11-01T00:00:00.000000000',\n",
       "       '2011-11-04T00:00:00.000000000', '2011-11-09T00:00:00.000000000',\n",
       "       '2011-11-16T00:00:00.000000000', '2011-11-17T00:00:00.000000000',\n",
       "       '2011-11-29T00:00:00.000000000', '2011-12-07T00:00:00.000000000',\n",
       "       '2011-12-09T00:00:00.000000000', '2011-12-13T00:00:00.000000000',\n",
       "       '2011-12-20T00:00:00.000000000', '2012-01-12T00:00:00.000000000',\n",
       "       '2012-01-18T00:00:00.000000000', '2012-01-20T00:00:00.000000000',\n",
       "       '2012-01-25T00:00:00.000000000', '2012-02-16T00:00:00.000000000',\n",
       "       '2012-02-21T00:00:00.000000000', '2012-03-05T00:00:00.000000000',\n",
       "       '2012-03-08T00:00:00.000000000', '2012-03-23T00:00:00.000000000',\n",
       "       '2012-03-27T00:00:00.000000000', '2012-03-30T00:00:00.000000000',\n",
       "       '2012-04-03T00:00:00.000000000', '2012-04-11T00:00:00.000000000',\n",
       "       '2012-04-18T00:00:00.000000000', '2012-04-19T00:00:00.000000000',\n",
       "       '2012-04-25T00:00:00.000000000', '2012-05-01T00:00:00.000000000',\n",
       "       '2012-05-10T00:00:00.000000000', '2012-05-11T00:00:00.000000000',\n",
       "       '2012-05-21T00:00:00.000000000', '2012-06-01T00:00:00.000000000',\n",
       "       '2012-06-07T00:00:00.000000000', '2012-06-12T00:00:00.000000000',\n",
       "       '2012-06-18T00:00:00.000000000', '2012-06-21T00:00:00.000000000',\n",
       "       '2012-06-29T00:00:00.000000000', '2012-07-11T00:00:00.000000000',\n",
       "       '2012-07-16T00:00:00.000000000', '2012-07-23T00:00:00.000000000',\n",
       "       '2012-07-30T00:00:00.000000000', '2012-08-24T00:00:00.000000000',\n",
       "       '2012-08-27T00:00:00.000000000', '2012-08-30T00:00:00.000000000',\n",
       "       '2012-09-05T00:00:00.000000000', '2012-09-10T00:00:00.000000000',\n",
       "       '2012-09-13T00:00:00.000000000', '2012-09-21T00:00:00.000000000',\n",
       "       '2012-10-04T00:00:00.000000000', '2012-10-05T00:00:00.000000000',\n",
       "       '2012-10-16T00:00:00.000000000', '2012-10-19T00:00:00.000000000',\n",
       "       '2012-11-19T00:00:00.000000000', '2012-12-04T00:00:00.000000000',\n",
       "       '2012-12-12T00:00:00.000000000', '2012-12-13T00:00:00.000000000',\n",
       "       '2012-12-18T00:00:00.000000000', '2012-12-21T00:00:00.000000000',\n",
       "       '2012-12-31T00:00:00.000000000', '2013-01-07T00:00:00.000000000',\n",
       "       '2013-01-17T00:00:00.000000000', '2013-01-24T00:00:00.000000000',\n",
       "       '2013-01-30T00:00:00.000000000', '2013-02-01T00:00:00.000000000',\n",
       "       '2013-02-06T00:00:00.000000000', '2013-02-13T00:00:00.000000000',\n",
       "       '2013-02-27T00:00:00.000000000', '2013-02-28T00:00:00.000000000',\n",
       "       '2013-03-07T00:00:00.000000000', '2013-03-13T00:00:00.000000000',\n",
       "       '2013-03-15T00:00:00.000000000', '2013-03-27T00:00:00.000000000',\n",
       "       '2013-04-10T00:00:00.000000000', '2013-04-15T00:00:00.000000000',\n",
       "       '2013-04-23T00:00:00.000000000', '2013-05-10T00:00:00.000000000',\n",
       "       '2013-05-20T00:00:00.000000000', '2013-06-05T00:00:00.000000000',\n",
       "       '2013-07-01T00:00:00.000000000', '2013-07-09T00:00:00.000000000',\n",
       "       '2013-07-10T00:00:00.000000000', '2013-07-19T00:00:00.000000000',\n",
       "       '2013-07-24T00:00:00.000000000', '2013-08-08T00:00:00.000000000',\n",
       "       '2013-08-13T00:00:00.000000000', '2013-08-21T00:00:00.000000000',\n",
       "       '2013-09-04T00:00:00.000000000', '2013-09-11T00:00:00.000000000',\n",
       "       '2013-09-19T00:00:00.000000000', '2013-09-27T00:00:00.000000000',\n",
       "       '2013-10-02T00:00:00.000000000', '2013-10-04T00:00:00.000000000',\n",
       "       '2013-10-10T00:00:00.000000000', '2013-10-29T00:00:00.000000000',\n",
       "       '2013-11-04T00:00:00.000000000', '2013-11-07T00:00:00.000000000',\n",
       "       '2013-11-11T00:00:00.000000000', '2013-11-18T00:00:00.000000000',\n",
       "       '2013-11-22T00:00:00.000000000', '2013-12-09T00:00:00.000000000',\n",
       "       '2013-12-10T00:00:00.000000000', '2013-12-11T00:00:00.000000000',\n",
       "       '2013-12-23T00:00:00.000000000', '2013-12-27T00:00:00.000000000',\n",
       "       '2014-01-14T00:00:00.000000000', '2014-01-21T00:00:00.000000000',\n",
       "       '2014-01-23T00:00:00.000000000', '2014-01-27T00:00:00.000000000',\n",
       "       '2014-02-04T00:00:00.000000000', '2014-02-20T00:00:00.000000000',\n",
       "       '2014-02-28T00:00:00.000000000', '2014-03-10T00:00:00.000000000',\n",
       "       '2014-03-11T00:00:00.000000000', '2014-03-14T00:00:00.000000000',\n",
       "       '2014-03-19T00:00:00.000000000', '2014-03-27T00:00:00.000000000',\n",
       "       '2014-04-01T00:00:00.000000000', '2014-04-04T00:00:00.000000000',\n",
       "       '2014-04-10T00:00:00.000000000', '2014-04-11T00:00:00.000000000',\n",
       "       '2014-04-17T00:00:00.000000000', '2014-05-02T00:00:00.000000000',\n",
       "       '2014-05-05T00:00:00.000000000', '2014-05-07T00:00:00.000000000',\n",
       "       '2014-05-13T00:00:00.000000000', '2014-05-16T00:00:00.000000000',\n",
       "       '2014-05-19T00:00:00.000000000', '2014-06-12T00:00:00.000000000',\n",
       "       '2014-06-18T00:00:00.000000000', '2014-06-20T00:00:00.000000000',\n",
       "       '2014-06-27T00:00:00.000000000', '2014-07-11T00:00:00.000000000',\n",
       "       '2014-07-14T00:00:00.000000000', '2014-07-16T00:00:00.000000000',\n",
       "       '2014-07-22T00:00:00.000000000', '2014-07-31T00:00:00.000000000',\n",
       "       '2014-08-11T00:00:00.000000000', '2014-09-03T00:00:00.000000000',\n",
       "       '2014-09-10T00:00:00.000000000', '2014-09-16T00:00:00.000000000',\n",
       "       '2014-09-18T00:00:00.000000000', '2014-09-22T00:00:00.000000000',\n",
       "       '2014-09-23T00:00:00.000000000', '2014-09-25T00:00:00.000000000',\n",
       "       '2014-09-30T00:00:00.000000000', '2014-10-02T00:00:00.000000000',\n",
       "       '2014-10-08T00:00:00.000000000', '2014-10-14T00:00:00.000000000',\n",
       "       '2014-10-20T00:00:00.000000000', '2014-12-01T00:00:00.000000000',\n",
       "       '2014-12-05T00:00:00.000000000', '2014-12-08T00:00:00.000000000',\n",
       "       '2014-12-18T00:00:00.000000000', '2014-12-24T00:00:00.000000000',\n",
       "       '2014-12-26T00:00:00.000000000', '2014-12-31T00:00:00.000000000',\n",
       "       '2015-01-08T00:00:00.000000000', '2015-01-13T00:00:00.000000000',\n",
       "       '2015-01-21T00:00:00.000000000', '2015-01-27T00:00:00.000000000',\n",
       "       '2015-01-29T00:00:00.000000000', '2015-02-26T00:00:00.000000000',\n",
       "       '2015-03-03T00:00:00.000000000', '2015-03-04T00:00:00.000000000',\n",
       "       '2015-03-16T00:00:00.000000000', '2015-03-20T00:00:00.000000000',\n",
       "       '2015-03-30T00:00:00.000000000', '2015-04-01T00:00:00.000000000',\n",
       "       '2015-04-02T00:00:00.000000000', '2015-04-09T00:00:00.000000000',\n",
       "       '2015-04-10T00:00:00.000000000', '2015-04-15T00:00:00.000000000',\n",
       "       '2015-04-21T00:00:00.000000000', '2015-04-29T00:00:00.000000000',\n",
       "       '2015-05-04T00:00:00.000000000', '2015-05-05T00:00:00.000000000',\n",
       "       '2015-05-08T00:00:00.000000000', '2015-05-13T00:00:00.000000000',\n",
       "       '2015-05-14T00:00:00.000000000', '2015-05-27T00:00:00.000000000',\n",
       "       '2015-05-28T00:00:00.000000000', '2015-05-29T00:00:00.000000000',\n",
       "       '2015-06-11T00:00:00.000000000', '2015-06-12T00:00:00.000000000',\n",
       "       '2015-06-18T00:00:00.000000000', '2015-06-19T00:00:00.000000000',\n",
       "       '2015-06-23T00:00:00.000000000', '2015-06-26T00:00:00.000000000',\n",
       "       '2015-07-02T00:00:00.000000000', '2015-07-07T00:00:00.000000000',\n",
       "       '2015-07-13T00:00:00.000000000', '2015-07-22T00:00:00.000000000',\n",
       "       '2015-08-10T00:00:00.000000000', '2015-08-12T00:00:00.000000000',\n",
       "       '2015-08-17T00:00:00.000000000', '2015-08-19T00:00:00.000000000',\n",
       "       '2015-08-27T00:00:00.000000000', '2015-09-01T00:00:00.000000000',\n",
       "       '2015-09-03T00:00:00.000000000', '2015-09-04T00:00:00.000000000',\n",
       "       '2015-09-08T00:00:00.000000000', '2015-09-17T00:00:00.000000000',\n",
       "       '2015-09-24T00:00:00.000000000', '2015-09-28T00:00:00.000000000',\n",
       "       '2015-10-05T00:00:00.000000000', '2015-10-08T00:00:00.000000000',\n",
       "       '2015-10-12T00:00:00.000000000', '2015-10-14T00:00:00.000000000',\n",
       "       '2015-10-16T00:00:00.000000000', '2015-10-27T00:00:00.000000000',\n",
       "       '2015-10-28T00:00:00.000000000', '2015-11-06T00:00:00.000000000',\n",
       "       '2015-11-18T00:00:00.000000000', '2015-11-24T00:00:00.000000000',\n",
       "       '2015-12-07T00:00:00.000000000', '2015-12-09T00:00:00.000000000',\n",
       "       '2015-12-23T00:00:00.000000000', '2015-12-28T00:00:00.000000000',\n",
       "       '2015-12-30T00:00:00.000000000', '2015-12-31T00:00:00.000000000',\n",
       "       '2016-01-12T00:00:00.000000000', '2016-01-14T00:00:00.000000000',\n",
       "       '2016-01-22T00:00:00.000000000', '2016-01-27T00:00:00.000000000',\n",
       "       '2016-02-01T00:00:00.000000000', '2016-02-03T00:00:00.000000000',\n",
       "       '2016-02-04T00:00:00.000000000', '2016-02-08T00:00:00.000000000',\n",
       "       '2016-02-16T00:00:00.000000000', '2016-02-19T00:00:00.000000000',\n",
       "       '2016-02-25T00:00:00.000000000', '2016-03-08T00:00:00.000000000',\n",
       "       '2016-03-11T00:00:00.000000000', '2016-03-24T00:00:00.000000000',\n",
       "       '2016-03-29T00:00:00.000000000', '2016-04-07T00:00:00.000000000',\n",
       "       '2016-04-12T00:00:00.000000000', '2016-04-18T00:00:00.000000000',\n",
       "       '2016-05-04T00:00:00.000000000', '2016-05-05T00:00:00.000000000',\n",
       "       '2016-05-11T00:00:00.000000000', '2016-05-12T00:00:00.000000000',\n",
       "       '2016-05-16T00:00:00.000000000', '2016-06-01T00:00:00.000000000',\n",
       "       '2016-06-07T00:00:00.000000000', '2016-06-13T00:00:00.000000000',\n",
       "       '2016-06-23T00:00:00.000000000', '2016-06-24T00:00:00.000000000',\n",
       "       '2016-06-29T00:00:00.000000000', '2016-07-06T00:00:00.000000000',\n",
       "       '2016-07-07T00:00:00.000000000', '2016-07-22T00:00:00.000000000',\n",
       "       '2016-07-27T00:00:00.000000000', '2016-08-11T00:00:00.000000000',\n",
       "       '2016-08-15T00:00:00.000000000', '2016-08-19T00:00:00.000000000',\n",
       "       '2016-09-02T00:00:00.000000000', '2016-09-08T00:00:00.000000000',\n",
       "       '2016-09-13T00:00:00.000000000', '2016-09-20T00:00:00.000000000',\n",
       "       '2016-09-22T00:00:00.000000000', '2016-09-26T00:00:00.000000000',\n",
       "       '2016-09-28T00:00:00.000000000', '2016-09-30T00:00:00.000000000',\n",
       "       '2016-10-05T00:00:00.000000000', '2016-10-19T00:00:00.000000000',\n",
       "       '2016-10-25T00:00:00.000000000', '2016-10-26T00:00:00.000000000',\n",
       "       '2016-11-08T00:00:00.000000000', '2016-11-10T00:00:00.000000000',\n",
       "       '2016-11-16T00:00:00.000000000', '2016-11-29T00:00:00.000000000',\n",
       "       '2016-12-07T00:00:00.000000000', '2016-12-23T00:00:00.000000000',\n",
       "       '2016-12-27T00:00:00.000000000', '2016-12-30T00:00:00.000000000',\n",
       "       '2017-01-05T00:00:00.000000000', '2017-01-13T00:00:00.000000000',\n",
       "       '2017-01-17T00:00:00.000000000', '2017-01-31T00:00:00.000000000',\n",
       "       '2017-02-01T00:00:00.000000000', '2017-03-07T00:00:00.000000000',\n",
       "       '2017-03-13T00:00:00.000000000', '2017-03-22T00:00:00.000000000',\n",
       "       '2017-03-23T00:00:00.000000000', '2017-03-24T00:00:00.000000000',\n",
       "       '2017-03-27T00:00:00.000000000', '2017-04-03T00:00:00.000000000',\n",
       "       '2017-04-04T00:00:00.000000000', '2017-04-06T00:00:00.000000000',\n",
       "       '2017-04-18T00:00:00.000000000', '2017-04-19T00:00:00.000000000',\n",
       "       '2017-04-20T00:00:00.000000000', '2017-04-28T00:00:00.000000000',\n",
       "       '2017-05-01T00:00:00.000000000', '2017-05-17T00:00:00.000000000',\n",
       "       '2017-05-22T00:00:00.000000000', '2017-05-25T00:00:00.000000000',\n",
       "       '2017-05-26T00:00:00.000000000', '2017-05-30T00:00:00.000000000',\n",
       "       '2017-06-02T00:00:00.000000000', '2017-06-09T00:00:00.000000000',\n",
       "       '2017-06-20T00:00:00.000000000', '2017-06-27T00:00:00.000000000',\n",
       "       '2017-07-10T00:00:00.000000000', '2017-07-28T00:00:00.000000000',\n",
       "       '2017-08-02T00:00:00.000000000', '2017-08-11T00:00:00.000000000',\n",
       "       '2017-08-14T00:00:00.000000000', '2017-08-17T00:00:00.000000000',\n",
       "       '2017-08-23T00:00:00.000000000', '2017-09-05T00:00:00.000000000',\n",
       "       '2017-09-12T00:00:00.000000000', '2017-09-13T00:00:00.000000000',\n",
       "       '2017-09-27T00:00:00.000000000', '2017-10-19T00:00:00.000000000',\n",
       "       '2017-10-25T00:00:00.000000000', '2017-11-13T00:00:00.000000000',\n",
       "       '2017-11-21T00:00:00.000000000', '2017-11-28T00:00:00.000000000',\n",
       "       '2017-12-11T00:00:00.000000000', '2017-12-21T00:00:00.000000000',\n",
       "       '2018-01-03T00:00:00.000000000', '2018-01-22T00:00:00.000000000',\n",
       "       '2018-02-12T00:00:00.000000000', '2018-02-22T00:00:00.000000000',\n",
       "       '2018-02-23T00:00:00.000000000', '2018-03-01T00:00:00.000000000',\n",
       "       '2018-03-06T00:00:00.000000000', '2018-03-07T00:00:00.000000000',\n",
       "       '2018-03-09T00:00:00.000000000', '2018-03-14T00:00:00.000000000',\n",
       "       '2018-03-27T00:00:00.000000000', '2018-03-28T00:00:00.000000000',\n",
       "       '2018-04-03T00:00:00.000000000', '2018-04-09T00:00:00.000000000',\n",
       "       '2018-04-10T00:00:00.000000000', '2018-04-19T00:00:00.000000000',\n",
       "       '2018-04-30T00:00:00.000000000', '2018-05-15T00:00:00.000000000',\n",
       "       '2018-05-22T00:00:00.000000000', '2018-05-30T00:00:00.000000000',\n",
       "       '2018-06-01T00:00:00.000000000', '2018-06-08T00:00:00.000000000',\n",
       "       '2018-06-27T00:00:00.000000000', '2018-07-05T00:00:00.000000000',\n",
       "       '2018-07-06T00:00:00.000000000', '2018-07-12T00:00:00.000000000',\n",
       "       '2018-07-13T00:00:00.000000000', '2018-07-18T00:00:00.000000000',\n",
       "       '2018-07-20T00:00:00.000000000', '2018-07-27T00:00:00.000000000',\n",
       "       '2018-08-01T00:00:00.000000000', '2018-08-08T00:00:00.000000000',\n",
       "       '2018-08-09T00:00:00.000000000', '2018-08-22T00:00:00.000000000',\n",
       "       '2018-08-24T00:00:00.000000000', '2018-09-06T00:00:00.000000000',\n",
       "       '2018-09-12T00:00:00.000000000', '2018-09-17T00:00:00.000000000',\n",
       "       '2018-09-21T00:00:00.000000000', '2018-10-05T00:00:00.000000000',\n",
       "       '2018-10-15T00:00:00.000000000', '2018-10-18T00:00:00.000000000',\n",
       "       '2018-10-22T00:00:00.000000000', '2018-10-25T00:00:00.000000000',\n",
       "       '2018-11-01T00:00:00.000000000', '2018-11-05T00:00:00.000000000',\n",
       "       '2018-11-08T00:00:00.000000000', '2018-11-12T00:00:00.000000000',\n",
       "       '2018-11-16T00:00:00.000000000', '2018-11-19T00:00:00.000000000',\n",
       "       '2018-11-28T00:00:00.000000000', '2018-12-06T00:00:00.000000000',\n",
       "       '2018-12-13T00:00:00.000000000', '2018-12-14T00:00:00.000000000',\n",
       "       '2018-12-27T00:00:00.000000000', '2019-01-03T00:00:00.000000000',\n",
       "       '2019-01-09T00:00:00.000000000', '2019-01-14T00:00:00.000000000',\n",
       "       '2019-01-16T00:00:00.000000000', '2019-01-23T00:00:00.000000000',\n",
       "       '2019-01-25T00:00:00.000000000', '2019-02-08T00:00:00.000000000',\n",
       "       '2019-02-13T00:00:00.000000000', '2019-03-01T00:00:00.000000000',\n",
       "       '2019-03-04T00:00:00.000000000', '2019-03-07T00:00:00.000000000',\n",
       "       '2019-03-11T00:00:00.000000000', '2019-03-25T00:00:00.000000000',\n",
       "       '2019-03-29T00:00:00.000000000', '2019-04-12T00:00:00.000000000',\n",
       "       '2019-04-17T00:00:00.000000000', '2019-04-26T00:00:00.000000000',\n",
       "       '2019-05-01T00:00:00.000000000', '2019-05-07T00:00:00.000000000',\n",
       "       '2019-05-17T00:00:00.000000000', '2019-05-20T00:00:00.000000000',\n",
       "       '2019-06-05T00:00:00.000000000', '2019-06-14T00:00:00.000000000',\n",
       "       '2019-06-18T00:00:00.000000000', '2019-06-25T00:00:00.000000000',\n",
       "       '2019-06-27T00:00:00.000000000', '2019-07-08T00:00:00.000000000',\n",
       "       '2019-07-11T00:00:00.000000000', '2019-07-19T00:00:00.000000000',\n",
       "       '2019-07-22T00:00:00.000000000', '2019-07-26T00:00:00.000000000',\n",
       "       '2019-07-29T00:00:00.000000000', '2019-08-02T00:00:00.000000000',\n",
       "       '2019-08-08T00:00:00.000000000', '2019-08-15T00:00:00.000000000',\n",
       "       '2019-08-16T00:00:00.000000000', '2019-08-23T00:00:00.000000000',\n",
       "       '2019-08-29T00:00:00.000000000', '2019-09-04T00:00:00.000000000',\n",
       "       '2019-09-05T00:00:00.000000000', '2019-09-16T00:00:00.000000000',\n",
       "       '2019-09-18T00:00:00.000000000', '2019-09-20T00:00:00.000000000',\n",
       "       '2019-09-25T00:00:00.000000000', '2019-10-03T00:00:00.000000000',\n",
       "       '2019-10-04T00:00:00.000000000', '2019-10-17T00:00:00.000000000',\n",
       "       '2019-10-18T00:00:00.000000000', '2019-10-30T00:00:00.000000000',\n",
       "       '2019-11-01T00:00:00.000000000', '2019-11-20T00:00:00.000000000',\n",
       "       '2019-11-25T00:00:00.000000000', '2019-12-02T00:00:00.000000000',\n",
       "       '2019-12-05T00:00:00.000000000', '2019-12-20T00:00:00.000000000',\n",
       "       '2019-12-23T00:00:00.000000000', '2020-01-15T00:00:00.000000000',\n",
       "       '2020-01-17T00:00:00.000000000', '2020-01-27T00:00:00.000000000',\n",
       "       '2020-01-29T00:00:00.000000000', '2020-01-31T00:00:00.000000000',\n",
       "       '2020-02-05T00:00:00.000000000', '2020-02-10T00:00:00.000000000',\n",
       "       '2020-02-12T00:00:00.000000000', '2020-02-18T00:00:00.000000000',\n",
       "       '2020-03-02T00:00:00.000000000', '2020-03-06T00:00:00.000000000',\n",
       "       '2020-03-25T00:00:00.000000000', '2020-04-01T00:00:00.000000000',\n",
       "       '2020-04-06T00:00:00.000000000', '2020-04-20T00:00:00.000000000',\n",
       "       '2020-04-24T00:00:00.000000000', '2020-05-14T00:00:00.000000000',\n",
       "       '2020-05-18T00:00:00.000000000', '2020-05-27T00:00:00.000000000',\n",
       "       '2020-05-28T00:00:00.000000000', '2020-06-12T00:00:00.000000000',\n",
       "       '2020-06-16T00:00:00.000000000', '2020-06-26T00:00:00.000000000',\n",
       "       '2020-06-30T00:00:00.000000000', '2020-07-17T00:00:00.000000000',\n",
       "       '2020-07-20T00:00:00.000000000', '2020-07-23T00:00:00.000000000',\n",
       "       '2020-07-29T00:00:00.000000000', '2020-08-11T00:00:00.000000000',\n",
       "       '2020-08-13T00:00:00.000000000', '2020-08-28T00:00:00.000000000',\n",
       "       '2020-08-31T00:00:00.000000000', '2020-09-03T00:00:00.000000000',\n",
       "       '2020-09-15T00:00:00.000000000', '2020-09-17T00:00:00.000000000',\n",
       "       '2020-09-22T00:00:00.000000000', '2020-09-24T00:00:00.000000000',\n",
       "       '2020-09-25T00:00:00.000000000', '2020-10-02T00:00:00.000000000',\n",
       "       '2020-10-08T00:00:00.000000000', '2020-10-16T00:00:00.000000000',\n",
       "       '2020-11-04T00:00:00.000000000', '2020-11-10T00:00:00.000000000',\n",
       "       '2020-11-12T00:00:00.000000000', '2020-11-18T00:00:00.000000000',\n",
       "       '2020-11-27T00:00:00.000000000', '2020-12-10T00:00:00.000000000',\n",
       "       '2020-12-15T00:00:00.000000000', '2020-12-21T00:00:00.000000000',\n",
       "       '2020-12-22T00:00:00.000000000', '2020-12-31T00:00:00.000000000',\n",
       "       '2021-01-08T00:00:00.000000000', '2021-01-12T00:00:00.000000000',\n",
       "       '2021-01-20T00:00:00.000000000', '2021-01-28T00:00:00.000000000',\n",
       "       '2021-02-03T00:00:00.000000000', '2021-02-10T00:00:00.000000000',\n",
       "       '2021-03-01T00:00:00.000000000', '2021-03-04T00:00:00.000000000',\n",
       "       '2021-03-10T00:00:00.000000000', '2021-03-18T00:00:00.000000000',\n",
       "       '2021-03-23T00:00:00.000000000', '2021-03-25T00:00:00.000000000',\n",
       "       '2021-03-29T00:00:00.000000000', '2021-03-31T00:00:00.000000000',\n",
       "       '2021-04-01T00:00:00.000000000', '2021-04-21T00:00:00.000000000',\n",
       "       '2021-04-26T00:00:00.000000000', '2021-04-29T00:00:00.000000000',\n",
       "       '2021-05-07T00:00:00.000000000', '2021-05-11T00:00:00.000000000',\n",
       "       '2021-05-14T00:00:00.000000000', '2021-05-19T00:00:00.000000000',\n",
       "       '2021-05-21T00:00:00.000000000', '2021-05-27T00:00:00.000000000',\n",
       "       '2021-06-04T00:00:00.000000000', '2021-06-25T00:00:00.000000000',\n",
       "       '2021-06-28T00:00:00.000000000', '2021-07-19T00:00:00.000000000',\n",
       "       '2021-07-21T00:00:00.000000000', '2021-07-28T00:00:00.000000000',\n",
       "       '2021-08-03T00:00:00.000000000', '2021-08-09T00:00:00.000000000',\n",
       "       '2021-08-12T00:00:00.000000000', '2021-08-18T00:00:00.000000000',\n",
       "       '2021-08-23T00:00:00.000000000', '2021-08-26T00:00:00.000000000',\n",
       "       '2021-08-30T00:00:00.000000000', '2021-09-09T00:00:00.000000000',\n",
       "       '2021-09-16T00:00:00.000000000', '2021-09-17T00:00:00.000000000',\n",
       "       '2021-09-23T00:00:00.000000000', '2021-09-28T00:00:00.000000000',\n",
       "       '2021-10-06T00:00:00.000000000', '2021-10-12T00:00:00.000000000',\n",
       "       '2021-10-15T00:00:00.000000000', '2021-10-25T00:00:00.000000000',\n",
       "       '2021-10-27T00:00:00.000000000', '2021-11-01T00:00:00.000000000',\n",
       "       '2021-11-03T00:00:00.000000000', '2021-11-09T00:00:00.000000000',\n",
       "       '2021-11-15T00:00:00.000000000', '2021-11-26T00:00:00.000000000',\n",
       "       '2021-11-30T00:00:00.000000000', '2021-12-03T00:00:00.000000000',\n",
       "       '2021-12-07T00:00:00.000000000', '2021-12-14T00:00:00.000000000',\n",
       "       '2021-12-15T00:00:00.000000000', '2021-12-16T00:00:00.000000000',\n",
       "       '2021-12-22T00:00:00.000000000', '2021-12-31T00:00:00.000000000',\n",
       "       '2022-01-03T00:00:00.000000000', '2022-01-05T00:00:00.000000000',\n",
       "       '2022-01-11T00:00:00.000000000', '2022-01-14T00:00:00.000000000',\n",
       "       '2022-01-28T00:00:00.000000000', '2022-02-04T00:00:00.000000000',\n",
       "       '2022-02-09T00:00:00.000000000', '2022-02-11T00:00:00.000000000',\n",
       "       '2022-02-16T00:00:00.000000000', '2022-02-18T00:00:00.000000000',\n",
       "       '2022-02-28T00:00:00.000000000', '2022-03-04T00:00:00.000000000',\n",
       "       '2022-03-10T00:00:00.000000000', '2022-03-11T00:00:00.000000000',\n",
       "       '2022-03-16T00:00:00.000000000', '2022-03-31T00:00:00.000000000',\n",
       "       '2022-04-05T00:00:00.000000000', '2022-04-06T00:00:00.000000000',\n",
       "       '2022-04-14T00:00:00.000000000', '2022-04-18T00:00:00.000000000',\n",
       "       '2022-04-20T00:00:00.000000000', '2022-04-22T00:00:00.000000000',\n",
       "       '2022-04-29T00:00:00.000000000', '2022-05-02T00:00:00.000000000',\n",
       "       '2022-05-04T00:00:00.000000000', '2022-05-06T00:00:00.000000000',\n",
       "       '2022-05-17T00:00:00.000000000', '2022-05-18T00:00:00.000000000',\n",
       "       '2022-05-24T00:00:00.000000000', '2022-06-03T00:00:00.000000000',\n",
       "       '2022-06-08T00:00:00.000000000', '2022-06-09T00:00:00.000000000',\n",
       "       '2022-06-21T00:00:00.000000000', '2022-06-29T00:00:00.000000000',\n",
       "       '2022-07-05T00:00:00.000000000', '2022-07-12T00:00:00.000000000',\n",
       "       '2022-07-14T00:00:00.000000000', '2022-07-26T00:00:00.000000000',\n",
       "       '2022-07-27T00:00:00.000000000'], dtype='datetime64[ns]')"
      ]
     },
     "execution_count": 47,
     "metadata": {},
     "output_type": "execute_result"
    }
   ],
   "source": [
    "crossEvents = side.index\n",
    "crossEvents.values\n"
   ]
  },
  {
   "cell_type": "code",
   "execution_count": 48,
   "id": "809fb152",
   "metadata": {
    "ExecuteTime": {
     "end_time": "2022-12-04T16:44:10.417727Z",
     "start_time": "2022-12-04T16:44:10.396538Z"
    }
   },
   "outputs": [],
   "source": [
    "\n",
    "def metaLabling(close, startEvents, side, verticalBarrier , SL = 0.010, TP = 0.015):\n",
    "    \n",
    "    \n",
    "    \"\"\"\n",
    "    Meta Labling Funcion:\n",
    "    ====================\n",
    "    params : \n",
    "        - close : numpy_array\n",
    "        - start events : numpy_array (Cross evet)\n",
    "        - side : numpy_array\n",
    "        - verticalBarrier:\n",
    "        - Stop Loss : SL \n",
    "        - Take Profit : TP\n",
    "\n",
    "    returns :\n",
    "        - first touched level \n",
    "        - row return \n",
    "        - percent return \n",
    "        - side of the position\n",
    "    \"\"\"\n",
    "    \n",
    "    if verticalBarrier is None:\n",
    "        verticalBarrier = pd.Series(close.index[-1], index=startEvents)\n",
    "\n",
    "\n",
    "    ret = pd.DataFrame(columns=['touch_tp', 'raw_return', 'p_return', 'side'], index=startEvents)\n",
    "    t_touch = 0\n",
    "    r_ret = 0\n",
    "    p_ret = 0\n",
    "    \n",
    "    for t0 in tqdm(startEvents):\n",
    "   # for t0 in startEvents:\n",
    "        window = close[t0:verticalBarrier[t0]]\n",
    "        \n",
    "        if(side[t0] == 1):\n",
    "            trgHi = close[t0] * TP  # 1.5% * Close 200 * .015 =>  3 $ \n",
    "            trgLow = close[t0] * SL # 1% * Close 200*.01  => 2 $\n",
    "        else:\n",
    "            trgHi = close[t0] * SL # 1% * Close\n",
    "            trgLow = close[t0] * TP # 1.5% * Close\n",
    "        \n",
    "        fabove = window >= (trgHi+close[t0]) # Higher Than Highest : [True,False,False,True,...] 203$ ?\n",
    "        fbelow = window <= (close[t0]-trgLow)# Lower Than Lowest : [True,False,False,True,...] 198 ?\n",
    "        \n",
    "        hiTouch = window[fabove].index.min()\n",
    "        lowTouch = window[fbelow].index.min()\n",
    "        \n",
    "        #print('ht',(hiTouch))\n",
    "        #print('lt',(lowTouch))\n",
    "        \n",
    "        if ((pd.isnull(hiTouch)) and (pd.isnull(lowTouch))):\n",
    "            #display('vertical barrier or infinit')\n",
    "            t_touch = 0\n",
    "            r_ret = close[verticalBarrier[t0]]\n",
    "            \n",
    "        elif (pd.isnull(hiTouch) and (not pd.isnull(lowTouch))):\n",
    "            #display('low touch')\n",
    "            t_touch = -1 \n",
    "            r_ret = close[lowTouch]\n",
    "        elif (not pd.isnull(hiTouch) and (pd.isnull(lowTouch))):\n",
    "            #display('hi touch')\n",
    "            t_touch = 1 \n",
    "            r_ret = close[hiTouch]\n",
    "        elif(hiTouch < lowTouch):\n",
    "            #display('HI')\n",
    "            t_touch = 1\n",
    "            r_ret = close[hiTouch]\n",
    "        else:\n",
    "           # display('LOW')\n",
    "            t_touch = -1\n",
    "            r_ret = close[lowTouch]\n",
    "\n",
    "            \n",
    "        ret.loc[t0].touch_tp = t_touch * side[t0]\n",
    "        ret.loc[t0].raw_return = abs(r_ret - close[t0]) * ret.loc[t0].touch_tp\n",
    "        ret.loc[t0].p_return = abs(r_ret / close[t0] - 1 ) * ret.loc[t0].touch_tp\n",
    "        ret.loc[t0].side = side[t0]\n",
    "\n",
    "        \n",
    "    return ret\n",
    "    \n"
   ]
  },
  {
   "cell_type": "code",
   "execution_count": 49,
   "id": "899a47ab",
   "metadata": {
    "ExecuteTime": {
     "end_time": "2022-12-04T16:44:12.012907Z",
     "start_time": "2022-12-04T16:44:12.002948Z"
    }
   },
   "outputs": [
    {
     "data": {
      "text/plain": [
       "Date\n",
       "2010-01-04    6.515212\n",
       "2010-01-05    6.526477\n",
       "2010-01-06    6.422664\n",
       "2010-01-07    6.410791\n",
       "2010-01-08    6.453412\n",
       "Name: Adj Close, dtype: float64"
      ]
     },
     "execution_count": 49,
     "metadata": {},
     "output_type": "execute_result"
    }
   ],
   "source": [
    "adj_close = aapl['Adj Close']\n",
    "adj_close[:5]"
   ]
  },
  {
   "cell_type": "markdown",
   "id": "eb1bc274",
   "metadata": {
    "ExecuteTime": {
     "end_time": "2022-12-04T16:44:15.923837Z",
     "start_time": "2022-12-04T16:44:13.970679Z"
    }
   },
   "source": [
    "df_met = metaLabling(adj_close, crossEvents, side, None, 0.10, 0.25)\n",
    "df_met.head(10)"
   ]
  },
  {
   "cell_type": "code",
   "execution_count": 51,
   "id": "8e43b971",
   "metadata": {
    "ExecuteTime": {
     "end_time": "2022-12-04T16:45:18.743911Z",
     "start_time": "2022-12-04T16:45:18.703353Z"
    }
   },
   "outputs": [
    {
     "data": {
      "text/plain": [
       "(673, 12)"
      ]
     },
     "execution_count": 51,
     "metadata": {},
     "output_type": "execute_result"
    }
   ],
   "source": [
    "aapl_f = pd.merge(aapl, df_met, left_index=True, right_index=True)\n",
    "aapl_f.shape\n"
   ]
  },
  {
   "cell_type": "code",
   "execution_count": 54,
   "id": "6c1d7d42",
   "metadata": {
    "ExecuteTime": {
     "end_time": "2022-12-04T16:45:48.213644Z",
     "start_time": "2022-12-04T16:45:48.200494Z"
    }
   },
   "outputs": [
    {
     "data": {
      "text/plain": [
       "(673, 5)"
      ]
     },
     "execution_count": 54,
     "metadata": {},
     "output_type": "execute_result"
    }
   ],
   "source": [
    "X = aapl_f[['Volume', 'Adj Close', 'fast', 'slow', 'side']]\n",
    "y = aapl_f.touch_tp\n",
    "X.shape"
   ]
  },
  {
   "cell_type": "markdown",
   "id": "615a50ca",
   "metadata": {},
   "source": [
    "### model "
   ]
  },
  {
   "cell_type": "code",
   "execution_count": 55,
   "id": "d9d4e585",
   "metadata": {
    "ExecuteTime": {
     "end_time": "2022-12-04T16:48:38.762151Z",
     "start_time": "2022-12-04T16:47:19.043664Z"
    }
   },
   "outputs": [],
   "source": [
    "import tensorflow as tf\n",
    "from tensorflow import keras\n",
    "import numpy as np\n",
    "from sklearn.model_selection import train_test_split\n",
    "from sklearn.preprocessing import StandardScaler"
   ]
  },
  {
   "cell_type": "code",
   "execution_count": null,
   "id": "7cc217c6",
   "metadata": {},
   "outputs": [],
   "source": []
  },
  {
   "cell_type": "code",
   "execution_count": 56,
   "id": "59ed6216",
   "metadata": {
    "ExecuteTime": {
     "end_time": "2022-12-04T16:48:38.901068Z",
     "start_time": "2022-12-04T16:48:38.774713Z"
    }
   },
   "outputs": [],
   "source": [
    "scaler = StandardScaler()\n",
    "Xs = scaler.fit_transform(X)\n",
    "X_train, X_test, y_train, y_test = train_test_split(Xs, np.array(y), test_size=0.15, random_state=42, shuffle=False)\n"
   ]
  },
  {
   "cell_type": "code",
   "execution_count": 61,
   "id": "1877300d",
   "metadata": {
    "ExecuteTime": {
     "end_time": "2022-12-04T17:02:47.337903Z",
     "start_time": "2022-12-04T17:02:46.132643Z"
    }
   },
   "outputs": [
    {
     "name": "stdout",
     "output_type": "stream",
     "text": [
      "Model: \"sequential_1\"\n",
      "_________________________________________________________________\n",
      " Layer (type)                Output Shape              Param #   \n",
      "=================================================================\n",
      " dense_7 (Dense)             (None, 5)                 30        \n",
      "                                                                 \n",
      " dense_8 (Dense)             (None, 10)                60        \n",
      "                                                                 \n",
      " dense_9 (Dense)             (None, 20)                220       \n",
      "                                                                 \n",
      " dense_10 (Dense)            (None, 40)                840       \n",
      "                                                                 \n",
      " dense_11 (Dense)            (None, 20)                820       \n",
      "                                                                 \n",
      " dense_12 (Dense)            (None, 10)                210       \n",
      "                                                                 \n",
      " dense_13 (Dense)            (None, 1)                 11        \n",
      "                                                                 \n",
      "=================================================================\n",
      "Total params: 2,191\n",
      "Trainable params: 2,191\n",
      "Non-trainable params: 0\n",
      "_________________________________________________________________\n"
     ]
    }
   ],
   "source": [
    "from datetime import datetime\n",
    "\n",
    "\n",
    "logdir = \"logs/scalars/\" + datetime.now().strftime(\"%Y-%m-%d_%H-%M-%S\")+'_StockPrediction_200_Model-3'\n",
    "file_writer = tf.summary.create_file_writer(logdir + \"/metrics\")\n",
    "file_writer.set_as_default()\n",
    "tensorboard_callback = keras.callbacks.TensorBoard(log_dir=logdir)\n",
    "#EarlyStopping = keras.callbacks.EarlyStopping(monitor='val_loss', min_delta=0, patience=100, verbose=0, mode='auto', baseline=None, restore_best_weights=True)\n",
    "TerminateOnNaN = keras.callbacks.TerminateOnNaN()\n",
    "\n",
    "model = keras.models.Sequential([\n",
    "keras.layers.Dense(5, activation='relu',input_shape=(5,)),\n",
    "keras.layers.Dense(10, activation='relu'),\n",
    "keras.layers.Dense(20, activation='relu'),\n",
    "keras.layers.Dense(40, activation='relu'),\n",
    "keras.layers.Dense(20, activation='relu'),\n",
    "keras.layers.Dense(10, activation='relu'),\n",
    "keras.layers.Dense(1, activation='sigmoid'),\n",
    "])\n",
    "\n",
    "\n",
    "model.compile(optimizer='adam', loss='mse',metrics=['acc'])\n",
    "model.summary()"
   ]
  },
  {
   "cell_type": "code",
   "execution_count": 62,
   "id": "edce877c",
   "metadata": {
    "ExecuteTime": {
     "end_time": "2022-12-04T17:02:52.928079Z",
     "start_time": "2022-12-04T17:02:52.814350Z"
    }
   },
   "outputs": [
    {
     "ename": "FileNotFoundError",
     "evalue": "[Errno 2] Unable to open file (unable to open file: name = 'models/50EPC.h5', errno = 2, error message = 'No such file or directory', flags = 0, o_flags = 0)",
     "output_type": "error",
     "traceback": [
      "\u001b[1;31m---------------------------------------------------------------------------\u001b[0m",
      "\u001b[1;31mFileNotFoundError\u001b[0m                         Traceback (most recent call last)",
      "Input \u001b[1;32mIn [62]\u001b[0m, in \u001b[0;36m<cell line: 1>\u001b[1;34m()\u001b[0m\n\u001b[1;32m----> 1\u001b[0m \u001b[43mmodel\u001b[49m\u001b[38;5;241;43m.\u001b[39;49m\u001b[43mload_weights\u001b[49m\u001b[43m(\u001b[49m\u001b[38;5;124;43m'\u001b[39;49m\u001b[38;5;124;43mmodels/50EPC.h5\u001b[39;49m\u001b[38;5;124;43m'\u001b[39;49m\u001b[43m)\u001b[49m\n",
      "File \u001b[1;32m~\\anaconda3\\lib\\site-packages\\keras\\utils\\traceback_utils.py:67\u001b[0m, in \u001b[0;36mfilter_traceback.<locals>.error_handler\u001b[1;34m(*args, **kwargs)\u001b[0m\n\u001b[0;32m     65\u001b[0m \u001b[38;5;28;01mexcept\u001b[39;00m \u001b[38;5;167;01mException\u001b[39;00m \u001b[38;5;28;01mas\u001b[39;00m e:  \u001b[38;5;66;03m# pylint: disable=broad-except\u001b[39;00m\n\u001b[0;32m     66\u001b[0m   filtered_tb \u001b[38;5;241m=\u001b[39m _process_traceback_frames(e\u001b[38;5;241m.\u001b[39m__traceback__)\n\u001b[1;32m---> 67\u001b[0m   \u001b[38;5;28;01mraise\u001b[39;00m e\u001b[38;5;241m.\u001b[39mwith_traceback(filtered_tb) \u001b[38;5;28;01mfrom\u001b[39;00m \u001b[38;5;28mNone\u001b[39m\n\u001b[0;32m     68\u001b[0m \u001b[38;5;28;01mfinally\u001b[39;00m:\n\u001b[0;32m     69\u001b[0m   \u001b[38;5;28;01mdel\u001b[39;00m filtered_tb\n",
      "File \u001b[1;32m~\\anaconda3\\lib\\site-packages\\h5py\\_hl\\files.py:507\u001b[0m, in \u001b[0;36mFile.__init__\u001b[1;34m(self, name, mode, driver, libver, userblock_size, swmr, rdcc_nslots, rdcc_nbytes, rdcc_w0, track_order, fs_strategy, fs_persist, fs_threshold, fs_page_size, page_buf_size, min_meta_keep, min_raw_keep, locking, **kwds)\u001b[0m\n\u001b[0;32m    502\u001b[0m     fapl \u001b[38;5;241m=\u001b[39m make_fapl(driver, libver, rdcc_nslots, rdcc_nbytes, rdcc_w0,\n\u001b[0;32m    503\u001b[0m                      locking, page_buf_size, min_meta_keep, min_raw_keep, \u001b[38;5;241m*\u001b[39m\u001b[38;5;241m*\u001b[39mkwds)\n\u001b[0;32m    504\u001b[0m     fcpl \u001b[38;5;241m=\u001b[39m make_fcpl(track_order\u001b[38;5;241m=\u001b[39mtrack_order, fs_strategy\u001b[38;5;241m=\u001b[39mfs_strategy,\n\u001b[0;32m    505\u001b[0m                      fs_persist\u001b[38;5;241m=\u001b[39mfs_persist, fs_threshold\u001b[38;5;241m=\u001b[39mfs_threshold,\n\u001b[0;32m    506\u001b[0m                      fs_page_size\u001b[38;5;241m=\u001b[39mfs_page_size)\n\u001b[1;32m--> 507\u001b[0m     fid \u001b[38;5;241m=\u001b[39m make_fid(name, mode, userblock_size, fapl, fcpl, swmr\u001b[38;5;241m=\u001b[39mswmr)\n\u001b[0;32m    509\u001b[0m \u001b[38;5;28;01mif\u001b[39;00m \u001b[38;5;28misinstance\u001b[39m(libver, \u001b[38;5;28mtuple\u001b[39m):\n\u001b[0;32m    510\u001b[0m     \u001b[38;5;28mself\u001b[39m\u001b[38;5;241m.\u001b[39m_libver \u001b[38;5;241m=\u001b[39m libver\n",
      "File \u001b[1;32m~\\anaconda3\\lib\\site-packages\\h5py\\_hl\\files.py:220\u001b[0m, in \u001b[0;36mmake_fid\u001b[1;34m(name, mode, userblock_size, fapl, fcpl, swmr)\u001b[0m\n\u001b[0;32m    218\u001b[0m     \u001b[38;5;28;01mif\u001b[39;00m swmr \u001b[38;5;129;01mand\u001b[39;00m swmr_support:\n\u001b[0;32m    219\u001b[0m         flags \u001b[38;5;241m|\u001b[39m\u001b[38;5;241m=\u001b[39m h5f\u001b[38;5;241m.\u001b[39mACC_SWMR_READ\n\u001b[1;32m--> 220\u001b[0m     fid \u001b[38;5;241m=\u001b[39m \u001b[43mh5f\u001b[49m\u001b[38;5;241;43m.\u001b[39;49m\u001b[43mopen\u001b[49m\u001b[43m(\u001b[49m\u001b[43mname\u001b[49m\u001b[43m,\u001b[49m\u001b[43m \u001b[49m\u001b[43mflags\u001b[49m\u001b[43m,\u001b[49m\u001b[43m \u001b[49m\u001b[43mfapl\u001b[49m\u001b[38;5;241;43m=\u001b[39;49m\u001b[43mfapl\u001b[49m\u001b[43m)\u001b[49m\n\u001b[0;32m    221\u001b[0m \u001b[38;5;28;01melif\u001b[39;00m mode \u001b[38;5;241m==\u001b[39m \u001b[38;5;124m'\u001b[39m\u001b[38;5;124mr+\u001b[39m\u001b[38;5;124m'\u001b[39m:\n\u001b[0;32m    222\u001b[0m     fid \u001b[38;5;241m=\u001b[39m h5f\u001b[38;5;241m.\u001b[39mopen(name, h5f\u001b[38;5;241m.\u001b[39mACC_RDWR, fapl\u001b[38;5;241m=\u001b[39mfapl)\n",
      "File \u001b[1;32mh5py\\_objects.pyx:54\u001b[0m, in \u001b[0;36mh5py._objects.with_phil.wrapper\u001b[1;34m()\u001b[0m\n",
      "File \u001b[1;32mh5py\\_objects.pyx:55\u001b[0m, in \u001b[0;36mh5py._objects.with_phil.wrapper\u001b[1;34m()\u001b[0m\n",
      "File \u001b[1;32mh5py\\h5f.pyx:106\u001b[0m, in \u001b[0;36mh5py.h5f.open\u001b[1;34m()\u001b[0m\n",
      "\u001b[1;31mFileNotFoundError\u001b[0m: [Errno 2] Unable to open file (unable to open file: name = 'models/50EPC.h5', errno = 2, error message = 'No such file or directory', flags = 0, o_flags = 0)"
     ]
    }
   ],
   "source": [
    "model.load_weights('models/50EPC.h5')"
   ]
  },
  {
   "cell_type": "code",
   "execution_count": 63,
   "id": "72e70ba0",
   "metadata": {
    "ExecuteTime": {
     "end_time": "2022-12-04T17:02:57.159598Z",
     "start_time": "2022-12-04T17:02:57.091893Z"
    }
   },
   "outputs": [
    {
     "ename": "ValueError",
     "evalue": "Failed to convert a NumPy array to a Tensor (Unsupported object type numpy.int64).",
     "output_type": "error",
     "traceback": [
      "\u001b[1;31m---------------------------------------------------------------------------\u001b[0m",
      "\u001b[1;31mValueError\u001b[0m                                Traceback (most recent call last)",
      "Input \u001b[1;32mIn [63]\u001b[0m, in \u001b[0;36m<cell line: 1>\u001b[1;34m()\u001b[0m\n\u001b[1;32m----> 1\u001b[0m \u001b[43mmodel\u001b[49m\u001b[38;5;241;43m.\u001b[39;49m\u001b[43mfit\u001b[49m\u001b[43m(\u001b[49m\u001b[43mX_train\u001b[49m\u001b[43m,\u001b[49m\u001b[43m \u001b[49m\u001b[43my_train\u001b[49m\u001b[43m,\u001b[49m\u001b[43m \u001b[49m\u001b[43mepochs\u001b[49m\u001b[38;5;241;43m=\u001b[39;49m\u001b[38;5;241;43m100\u001b[39;49m\u001b[43m,\u001b[49m\u001b[43m \u001b[49m\u001b[43mcallbacks\u001b[49m\u001b[38;5;241;43m=\u001b[39;49m\u001b[43m[\u001b[49m\u001b[43mtensorboard_callback\u001b[49m\u001b[43m]\u001b[49m\u001b[43m \u001b[49m\u001b[43m,\u001b[49m\u001b[43m \u001b[49m\u001b[43mvalidation_split\u001b[49m\u001b[38;5;241;43m=\u001b[39;49m\u001b[38;5;241;43m0.1\u001b[39;49m\u001b[43m,\u001b[49m\u001b[43m \u001b[49m\u001b[43mshuffle\u001b[49m\u001b[38;5;241;43m=\u001b[39;49m\u001b[38;5;28;43;01mFalse\u001b[39;49;00m\u001b[43m \u001b[49m\u001b[43m,\u001b[49m\u001b[43m \u001b[49m\u001b[43mverbose\u001b[49m\u001b[38;5;241;43m=\u001b[39;49m\u001b[38;5;241;43m2\u001b[39;49m\u001b[43m)\u001b[49m\n",
      "File \u001b[1;32m~\\anaconda3\\lib\\site-packages\\keras\\utils\\traceback_utils.py:67\u001b[0m, in \u001b[0;36mfilter_traceback.<locals>.error_handler\u001b[1;34m(*args, **kwargs)\u001b[0m\n\u001b[0;32m     65\u001b[0m \u001b[38;5;28;01mexcept\u001b[39;00m \u001b[38;5;167;01mException\u001b[39;00m \u001b[38;5;28;01mas\u001b[39;00m e:  \u001b[38;5;66;03m# pylint: disable=broad-except\u001b[39;00m\n\u001b[0;32m     66\u001b[0m   filtered_tb \u001b[38;5;241m=\u001b[39m _process_traceback_frames(e\u001b[38;5;241m.\u001b[39m__traceback__)\n\u001b[1;32m---> 67\u001b[0m   \u001b[38;5;28;01mraise\u001b[39;00m e\u001b[38;5;241m.\u001b[39mwith_traceback(filtered_tb) \u001b[38;5;28;01mfrom\u001b[39;00m \u001b[38;5;28mNone\u001b[39m\n\u001b[0;32m     68\u001b[0m \u001b[38;5;28;01mfinally\u001b[39;00m:\n\u001b[0;32m     69\u001b[0m   \u001b[38;5;28;01mdel\u001b[39;00m filtered_tb\n",
      "File \u001b[1;32m~\\anaconda3\\lib\\site-packages\\tensorflow\\python\\framework\\constant_op.py:102\u001b[0m, in \u001b[0;36mconvert_to_eager_tensor\u001b[1;34m(value, ctx, dtype)\u001b[0m\n\u001b[0;32m    100\u001b[0m     dtype \u001b[38;5;241m=\u001b[39m dtypes\u001b[38;5;241m.\u001b[39mas_dtype(dtype)\u001b[38;5;241m.\u001b[39mas_datatype_enum\n\u001b[0;32m    101\u001b[0m ctx\u001b[38;5;241m.\u001b[39mensure_initialized()\n\u001b[1;32m--> 102\u001b[0m \u001b[38;5;28;01mreturn\u001b[39;00m \u001b[43mops\u001b[49m\u001b[38;5;241;43m.\u001b[39;49m\u001b[43mEagerTensor\u001b[49m\u001b[43m(\u001b[49m\u001b[43mvalue\u001b[49m\u001b[43m,\u001b[49m\u001b[43m \u001b[49m\u001b[43mctx\u001b[49m\u001b[38;5;241;43m.\u001b[39;49m\u001b[43mdevice_name\u001b[49m\u001b[43m,\u001b[49m\u001b[43m \u001b[49m\u001b[43mdtype\u001b[49m\u001b[43m)\u001b[49m\n",
      "\u001b[1;31mValueError\u001b[0m: Failed to convert a NumPy array to a Tensor (Unsupported object type numpy.int64)."
     ]
    }
   ],
   "source": [
    "model.fit(X_train, y_train, epochs=100, callbacks=[tensorboard_callback] , validation_split=0.1, shuffle=False , verbose=2)"
   ]
  },
  {
   "cell_type": "code",
   "execution_count": null,
   "id": "d9b90e64",
   "metadata": {},
   "outputs": [],
   "source": []
  }
 ],
 "metadata": {
  "kernelspec": {
   "display_name": "Python 3 (ipykernel)",
   "language": "python",
   "name": "python3"
  },
  "language_info": {
   "codemirror_mode": {
    "name": "ipython",
    "version": 3
   },
   "file_extension": ".py",
   "mimetype": "text/x-python",
   "name": "python",
   "nbconvert_exporter": "python",
   "pygments_lexer": "ipython3",
   "version": "3.9.12"
  }
 },
 "nbformat": 4,
 "nbformat_minor": 5
}
