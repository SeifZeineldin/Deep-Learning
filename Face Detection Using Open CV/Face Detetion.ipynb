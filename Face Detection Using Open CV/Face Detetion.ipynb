{
 "cells": [
  {
   "cell_type": "markdown",
   "id": "0fdbc1fd",
   "metadata": {},
   "source": [
    "### Import modules"
   ]
  },
  {
   "cell_type": "code",
   "execution_count": 2,
   "id": "5270c1bd",
   "metadata": {
    "ExecuteTime": {
     "end_time": "2022-10-04T23:08:37.890089Z",
     "start_time": "2022-10-04T23:08:32.445543Z"
    }
   },
   "outputs": [],
   "source": [
    "import cv2 as cv\n",
    "import matplotlib.pyplot as plt"
   ]
  },
  {
   "cell_type": "markdown",
   "id": "30890b30",
   "metadata": {},
   "source": [
    "### import Haar-Cascade Classifiers (Pre-traind model)"
   ]
  },
  {
   "cell_type": "code",
   "execution_count": 3,
   "id": "aab212ba",
   "metadata": {
    "ExecuteTime": {
     "end_time": "2022-10-04T23:14:40.954392Z",
     "start_time": "2022-10-04T23:14:40.579523Z"
    }
   },
   "outputs": [],
   "source": [
    "haar_cascade = cv.CascadeClassifier('Haar-Cascade.xml')"
   ]
  },
  {
   "cell_type": "markdown",
   "id": "1a51e34e",
   "metadata": {},
   "source": [
    "### prepare the camera\n"
   ]
  },
  {
   "cell_type": "code",
   "execution_count": 26,
   "id": "b84c33d2",
   "metadata": {
    "ExecuteTime": {
     "end_time": "2022-10-04T23:33:28.566455Z",
     "start_time": "2022-10-04T23:33:26.655009Z"
    }
   },
   "outputs": [],
   "source": [
    "capture = cv.VideoCapture(0)"
   ]
  },
  {
   "cell_type": "markdown",
   "id": "dae7f116",
   "metadata": {},
   "source": [
    "### use Haar-Cascade Classifiers"
   ]
  },
  {
   "cell_type": "code",
   "execution_count": 27,
   "id": "604c3ee9",
   "metadata": {
    "ExecuteTime": {
     "end_time": "2022-10-04T23:34:04.127030Z",
     "start_time": "2022-10-04T23:33:28.568315Z"
    }
   },
   "outputs": [],
   "source": [
    "while True:\n",
    "    isTrue, img = capture.read()\n",
    "    if isTrue:    \n",
    "        img=cv.flip(img,1)\n",
    "        \n",
    "        faces_rect = haar_cascade.detectMultiScale(cv.cvtColor(img,cv.COLOR_BGR2GRAY), scaleFactor=1.2, minNeighbors=4)\n",
    "        for (x,y,w,h) in faces_rect:\n",
    "            cv.rectangle(img, (x,y), (x+w,y+h), (0,255,0), thickness=2)\n",
    "        cv.imshow('my video', img)\n",
    "        if cv.waitKey(20) & 0xFF==ord('x'):\n",
    "            break            \n",
    "    else:\n",
    "        break\n",
    "\n",
    "capture.release()\n",
    "cv.destroyAllWindows()"
   ]
  },
  {
   "cell_type": "code",
   "execution_count": null,
   "id": "309b46dd",
   "metadata": {},
   "outputs": [],
   "source": []
  }
 ],
 "metadata": {
  "kernelspec": {
   "display_name": "Python 3 (ipykernel)",
   "language": "python",
   "name": "python3"
  },
  "language_info": {
   "codemirror_mode": {
    "name": "ipython",
    "version": 3
   },
   "file_extension": ".py",
   "mimetype": "text/x-python",
   "name": "python",
   "nbconvert_exporter": "python",
   "pygments_lexer": "ipython3",
   "version": "3.9.12"
  }
 },
 "nbformat": 4,
 "nbformat_minor": 5
}
